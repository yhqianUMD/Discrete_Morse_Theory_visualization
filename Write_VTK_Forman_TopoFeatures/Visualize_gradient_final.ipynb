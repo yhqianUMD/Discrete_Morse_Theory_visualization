{
 "cells": [
  {
   "cell_type": "code",
   "execution_count": 1,
   "id": "worth-medium",
   "metadata": {},
   "outputs": [],
   "source": [
    "import findspark\n",
    "import os\n",
    "#findspark.init() \n",
    "SPARK_HOME='/opt/cloudera/parcels/CDH/lib/spark'\n",
    "# SPARK_HOME='/home/qiany/.conda/envs/py37'\n",
    "# os.environ['SPARK_HOME'] = '/home/qiany/.conda/envs/py37'\n",
    "findspark.init(SPARK_HOME)"
   ]
  },
  {
   "cell_type": "code",
   "execution_count": 2,
   "id": "paperback-dover",
   "metadata": {},
   "outputs": [],
   "source": [
    "import time\n",
    "import math\n",
    "import copy\n",
    "import csv\n",
    "import json\n",
    "import os\n",
    "import codecs\n",
    "import subprocess\n",
    "#from hdfs import InsecureClient\n",
    "import numpy as np\n",
    "#from pyspark import SparkContext\n",
    "from pyspark import SQLContext\n",
    "from pyspark.sql import Row\n",
    "from pyspark.sql import functions as F\n",
    "from pyspark.sql.functions import create_map\n",
    "from pyspark.sql.functions import array_union,flatten,array_sort,coalesce,broadcast,collect_list, collect_set, udf, array_remove, log, lit, first, col, array, sort_array,split, explode, desc, asc, row_number,isnan, when, count\n",
    "from pyspark.sql.types import *\n",
    "import rtree\n",
    "from pyspark.sql import Window\n",
    "#import igraph\n",
    "#from igraph import Graph\n",
    "import geofeather\n",
    "from pyspark.storagelevel import StorageLevel"
   ]
  },
  {
   "cell_type": "code",
   "execution_count": 3,
   "id": "soviet-infection",
   "metadata": {},
   "outputs": [
    {
     "name": "stdin",
     "output_type": "stream",
     "text": [
      "Here is a programe to compute the Forman gradient, please input the absolute or relative path to your TIN file: cos_sum.tri\n"
     ]
    },
    {
     "name": "stdout",
     "output_type": "stream",
     "text": [
      "\n",
      "********************\n",
      "tin_directory:  \n"
     ]
    },
    {
     "name": "stdin",
     "output_type": "stream",
     "text": [
      "Is the data stored in hdfs(0) or SigSpatial(1): 0\n"
     ]
    },
    {
     "name": "stdout",
     "output_type": "stream",
     "text": [
      "tin_basename:  cos_sum.tri\n",
      "tin_filename:  cos_sum\n",
      "tin_extension:  .tri\n",
      "\n",
      "********************\n"
     ]
    }
   ],
   "source": [
    "tin_file = input(\"Here is a programe to compute the Forman gradient, please input the absolute or relative path to your TIN file:\")\n",
    "print(\"\\n********************\")\n",
    "\n",
    "# get the directory to the TIN file\n",
    "tin_directory = os.path.dirname(tin_file)\n",
    "print(\"tin_directory: \", tin_directory)\n",
    "\n",
    "directory_type = input(\"Is the data stored in hdfs(0) or SigSpatial(1):\") or \"1\"\n",
    "if directory_type == '0':\n",
    "    directory = 'hdfs_data'\n",
    "else:\n",
    "    directory = 'SigSpatial_data'\n",
    "    \n",
    "# get the basename to the TIN file\n",
    "tin_basename = os.path.basename(tin_file) # input_vertices_2.off\n",
    "print(\"tin_basename: \", tin_basename)\n",
    "\n",
    "# get the filename of the TIN file\n",
    "tin_filename = os.path.splitext(tin_basename)[0] # input_vertices_2\n",
    "print(\"tin_filename: \", tin_filename)\n",
    "\n",
    "# get the type of TIN file: off, tri, etc\n",
    "tin_extension = os.path.splitext(tin_basename)[1] # .off\n",
    "print(\"tin_extension: \", tin_extension)\n",
    "print(\"\\n********************\")"
   ]
  },
  {
   "cell_type": "code",
   "execution_count": 4,
   "id": "federal-reynolds",
   "metadata": {},
   "outputs": [
    {
     "name": "stdin",
     "output_type": "stream",
     "text": [
      "Do you have filtration data? yes\n",
      "Is this graph VE (0) or ET (1)? 0\n",
      "spark.executor.instances: \n",
      "spark.executor.cores: \n",
      "spark.executor.memory? Please end with 'g': \n",
      "spark.executor.memoryOverhead? Please end with 'g': \n",
      "spark.sql.shuffle.partitions: \n"
     ]
    }
   ],
   "source": [
    "# filtra is the order of each vertex, the order is obtained by ranking elevation values of vertices\n",
    "filtra = input(\"Do you have filtration data?\") or \"yes\"\n",
    "# filtra = 'yes'\n",
    "\n",
    "if filtra.lower() == 'no':    \n",
    "    Basic_Data = input(\"Do you have basic pts and tri data?\")\n",
    "    \n",
    "graph = input(\"Is this graph VE (0) or ET (1)?\") or \"1\"\n",
    "Num_executor = input(\"spark.executor.instances:\") or \"4\"\n",
    "Num_core_per_executor = input(\"spark.executor.cores:\") or \"5\"\n",
    "Memory_executor = input(\"spark.executor.memory? Please end with 'g':\") or \"28g\"\n",
    "MemoryOverhead_executor = input(\"spark.executor.memoryOverhead? Please end with 'g':\") or \"16g\"\n",
    "\n",
    "# Num_core_per_driver = Num_core_per_executor\n",
    "# Memory_driver = Memory_executor\n",
    "# MemoryOverhead_driver = MemoryOverhead_executor\n",
    "\n",
    "Num_core_per_driver = '5'\n",
    "Memory_driver = '12g'\n",
    "MemoryOverhead_driver = '4g'\n",
    "\n",
    "Num_shuffle_partitions = input(\"spark.sql.shuffle.partitions:\") or \"200\""
   ]
  },
  {
   "cell_type": "code",
   "execution_count": 5,
   "id": "earlier-riding",
   "metadata": {},
   "outputs": [],
   "source": [
    "from pyspark.sql import SparkSession\n",
    "from pyspark import StorageLevel\n",
    "import geopandas as gpd\n",
    "import pandas as pd\n",
    "from pyspark.sql.types import StructType, StructField, StringType, IntegerType, LongType, FloatType, ArrayType, MapType\n",
    "from shapely.geometry import Point\n",
    "from shapely.geometry import Polygon\n",
    "\n",
    "from sedona.register import SedonaRegistrator\n",
    "from sedona.core.SpatialRDD import SpatialRDD, PointRDD, CircleRDD, PolygonRDD, LineStringRDD\n",
    "from sedona.core.enums import FileDataSplitter\n",
    "from sedona.utils.adapter import Adapter\n",
    "from sedona.core.spatialOperator import KNNQuery\n",
    "from sedona.core.spatialOperator import JoinQuery\n",
    "from sedona.core.spatialOperator import JoinQueryRaw\n",
    "from sedona.core.spatialOperator import RangeQuery\n",
    "from sedona.core.spatialOperator import RangeQueryRaw\n",
    "from sedona.core.formatMapper.shapefileParser import ShapefileReader\n",
    "from sedona.core.formatMapper import WkbReader\n",
    "from sedona.core.formatMapper import WktReader\n",
    "from sedona.core.formatMapper import GeoJsonReader\n",
    "from sedona.sql.types import GeometryType\n",
    "from sedona.core.enums import GridType\n",
    "from sedona.core.SpatialRDD import RectangleRDD\n",
    "from sedona.core.enums import IndexType\n",
    "from sedona.core.geom.envelope import Envelope\n",
    "from sedona.utils import SedonaKryoRegistrator, KryoSerializer"
   ]
  },
  {
   "cell_type": "code",
   "execution_count": 6,
   "id": "incomplete-apache",
   "metadata": {},
   "outputs": [],
   "source": [
    "os.environ['PYSPARK_PYTHON'] = \"./environment/bin/python\"\n",
    "#os.environ['PYSPARK_PYTHON'] = \"/home/qiany/.conda/envs/py37/bin/python\"\n",
    "os.environ['YARN_CONF_DIR'] = \"/opt/cloudera/parcels/CDH/lib/spark/conf/yarn-conf\""
   ]
  },
  {
   "cell_type": "code",
   "execution_count": 7,
   "id": "spread-footage",
   "metadata": {},
   "outputs": [
    {
     "name": "stdout",
     "output_type": "stream",
     "text": [
      "spark_app_name: Visualize_gradient_cos_sum_04032024_1715\n"
     ]
    }
   ],
   "source": [
    "'''\n",
    "spark.executor.cores: # Number of concurrent tasks an executor can run, euqals to the number of cores to use on each executor\n",
    "spark.executor.instances: # Number of executors for the spark application\n",
    "spark.executor.memory: # Amount of memory to use for each executor that runs the task\n",
    "spark.executor.memoryOverhead:\n",
    "spark.driver.cores: # Number of cores to use for the driver process; the default number is 1\n",
    "spark.driver.memory: # Amount of memory to use for the driver\n",
    "spark.driver.maxResultSize: to define the maximum limit of the total size of the serialized result that a driver can store for each Spark collect action\n",
    "spark.default.parallelism: # Default number of partitions in RDDs returned by transformations like join, reduceByKey, and parallelize when not set by user. It can be set as spark.executor.instances * spark.executor.cores * 2\n",
    "spark.sql.shuffle.partitions: determine how many partitions are used when data is shuffled between nodes, e.g., joins or aggregations. usually 1~5 times of executor.instances * executor.cores\n",
    "spark.memory.storageFraction: determines the fraction of the heap space that is allocated to caching RDDs and DataFrames in memory.\n",
    "spark.kryoserializer.buffer.max: determine the maximum of data that can be serialized at once; this must be larger than any object we attempt to serialize\n",
    "spark.rpc.message.maxSize: # Maximum message size (in MiB) to allow in \"control plane\" communication; generally only applies to map output size information sent between executors and the driver. To communicate between the nodes, Spark uses a protocol called RPC (Remote Procedure Call), which sends messages back and forth. The spark.rpc.message.maxSize parameter limits how big these messages can be. \n",
    "spark.sql.broadcastTimeout: Spark will wait for this amount of time before giving up on broadcasting a table. Broadcasting can take a long time if the table is large or if there is a shuffle operation before it.\n",
    "spark.sql.autoBroadcastJoinThreshold: Spark will broadcast a table to all worker nodes when performing a join if its size is less than this value; -1 means disabling broadcasting\n",
    "'''\n",
    "\n",
    "date = time.strftime(\"%m,%d,%Y\")\n",
    "date_name = date.split(',')[0] + date.split(',')[1] + date.split(',')[2]\n",
    "\n",
    "hour = time.strftime(\"%H,%M\")\n",
    "hour_name = hour.split(',')[0] + hour.split(',')[1]\n",
    "\n",
    "# set the Spark app name\n",
    "spark_app_name = \"Visualize_gradient_\" + tin_filename + '_' + date_name + '_' + hour_name\n",
    "print(\"spark_app_name:\", spark_app_name)\n",
    "\n",
    "spark = SparkSession \\\n",
    ".builder \\\n",
    ".appName(spark_app_name) \\\n",
    ".master('yarn') \\\n",
    ".config(\"spark.serializer\", KryoSerializer.getName) \\\n",
    ".config(\"spark.kryo.registrator\", SedonaKryoRegistrator.getName) \\\n",
    ".config('spark.jars','sedona-core-2.4_2.11-1.0.0-incubating.jar,sedona-sql-2.4_2.11-1.0.0-incubating.jar,sedona-python-adapter-2.4_2.11-1.0.0-incubating.jar,sedona-viz-2.4_2.11-1.0.0-incubating.jar,geotools-wrapper-geotools-24.0.jar,graphframes-0.8.0-spark2.4-s_2.11.jar') \\\n",
    ".config('spark.executor.cores', Num_core_per_executor) \\\n",
    ".config('spark.executor.instances', Num_executor) \\\n",
    ".config('spark.executor.memory', Memory_executor) \\\n",
    ".config('spark.executor.memoryOverhead', MemoryOverhead_executor) \\\n",
    ".config('spark.driver.cores', Num_core_per_driver) \\\n",
    ".config('spark.driver.memory', Memory_driver) \\\n",
    ".config('spark.driver.memoryOverhead', MemoryOverhead_driver) \\\n",
    ".config('spark.driver.maxResultSize', '0') \\\n",
    ".config('spark.dynamicAllocation.enabled', 'false') \\\n",
    ".config('spark.network.timeout', '10000001s') \\\n",
    ".config('spark.executor.heartbeatInterval', '10000000s') \\\n",
    ".config('spark.sql.shuffle.partitions', Num_shuffle_partitions) \\\n",
    ".config(\"spark.default.parallelism\", '200') \\\n",
    ".config(\"spark.kryoserializer.buffer.max\", \"1024mb\") \\\n",
    ".config('spark.rpc.message.maxSize', '256') \\\n",
    ".config(\"spark.sql.broadcastTimeout\", \"36000\") \\\n",
    ".config(\"spark.sql.autoBroadcastJoinThreshold\", \"-1\") \\\n",
    ".config(\"spark.python.profile\", \"true\") \\\n",
    ".config(\"spark.eventLog.enabled\", \"true\") \\\n",
    ".config('spark.yarn.dist.archives', '/local/data/yuehui/py37.tar.gz#environment') \\\n",
    ".getOrCreate()"
   ]
  },
  {
   "cell_type": "code",
   "execution_count": 8,
   "id": "quick-panic",
   "metadata": {},
   "outputs": [],
   "source": [
    "import sys\n",
    "sys.path.append(\"/local/data/yuehui/pyspark/FormanGradient/code\")"
   ]
  },
  {
   "cell_type": "code",
   "execution_count": 9,
   "id": "bronze-transportation",
   "metadata": {},
   "outputs": [],
   "source": [
    "import graphframes\n",
    "from graphframes import GraphFrame\n",
    "from graphframes import *\n",
    "from graphframes.lib import Pregel"
   ]
  },
  {
   "cell_type": "code",
   "execution_count": 10,
   "id": "unique-lecture",
   "metadata": {},
   "outputs": [],
   "source": [
    "# read_ver_order() is a function used to read vertices from a csv file\n",
    "def read_ver_order(filtra, directory, tin_filename):\n",
    "    '''\n",
    "    this function has three input parameters.\n",
    "    filtra: 'yes' or 'no', yes means that the input csv file is ordered by default\n",
    "    directory: a string denoting the directory to a TIN file\n",
    "    tin_filename: a string denoting the file name of a TIN without extension, e.g., Canyon_Lake_Gorge_TX\n",
    "    '''\n",
    "    if filtra.lower() == 'yes': # 'yes' means we have already computed the filtra value for each vertex\n",
    "        schema_ver_origin = StructType([ \\\n",
    "            StructField(\"x\",FloatType(),True), \\\n",
    "            StructField(\"y\",FloatType(),True), \\\n",
    "            StructField(\"ele\",FloatType(),True), \\\n",
    "            StructField(\"self_index\",IntegerType(),True), \\\n",
    "            StructField(\"self_order\",IntegerType(),True) \\\n",
    "          ])\n",
    "        \n",
    "        hdfs_tin_pts_origin = directory + \"/\" + tin_filename + '_filtra_pts_origin.csv'\n",
    "    \n",
    "        df_ver_order = spark.read.format(\"csv\") \\\n",
    "              .option(\"header\", False) \\\n",
    "              .schema(schema_ver_origin)\\\n",
    "              .load(hdfs_tin_pts_origin)\n",
    "        print(\"Number of partitions for df_ver_order:\", df_ver_order.rdd.getNumPartitions())\n",
    "        \n",
    "    if filtra.lower() == 'no': # 'no' means we need to rank vertices to get their filtra values\n",
    "        schema_ver_origin = StructType([ \\\n",
    "            StructField(\"x\",FloatType(),True), \\\n",
    "            StructField(\"y\",FloatType(),True), \\\n",
    "            StructField(\"ele\",FloatType(),True), \\\n",
    "            StructField(\"self_index\",IntegerType(),True) \\\n",
    "          ])\n",
    "        \n",
    "        hdfs_tin_pts_origin = directory + \"/\" + tin_filename + '_pts_origin.csv'\n",
    "    \n",
    "        df_ver_origin = spark.read.format(\"csv\") \\\n",
    "              .option(\"header\", False) \\\n",
    "              .schema(schema_ver_origin)\\\n",
    "              .load(hdfs_tin_pts_origin)\n",
    "        \n",
    "        print(\"Number of partitions for df_ver_origin:\", df_ver_origin.rdd.getNumPartitions())\n",
    "        \n",
    "        # define a window for the ordering\n",
    "        # row_number() function along with partitionBy() of other column populates the row number by group\n",
    "        # Since we want to order the whole DataFrame, so we don't need the partitionBy() function\n",
    "        w = Window().orderBy(col('ele').asc())\n",
    "        df_ver_order = df_ver_origin.withColumn(\"self_order\", F.row_number().over(w) -1) # let the row number start from 0\n",
    "        print(\"Number of partitions for df_ver_order:\", df_ver_order.rdd.getNumPartitions())\n",
    "        \n",
    "    return df_ver_order"
   ]
  },
  {
   "cell_type": "code",
   "execution_count": 11,
   "id": "thick-thong",
   "metadata": {},
   "outputs": [
    {
     "name": "stdout",
     "output_type": "stream",
     "text": [
      "Number of partitions for df_ver_order: 1\n",
      "root\n",
      " |-- x: float (nullable = true)\n",
      " |-- y: float (nullable = true)\n",
      " |-- ele: float (nullable = true)\n",
      " |-- self_index: integer (nullable = true)\n",
      " |-- self_order: integer (nullable = true)\n",
      "\n"
     ]
    }
   ],
   "source": [
    "# read vertices\n",
    "df_ver_order = read_ver_order(filtra, directory, tin_filename)\n",
    "df_ver_order.printSchema()"
   ]
  },
  {
   "cell_type": "code",
   "execution_count": 12,
   "id": "regulation-silver",
   "metadata": {},
   "outputs": [],
   "source": [
    "# read_tri_order() is a function used to read triangles from a csv file\n",
    "def read_tri_order(filtra, directory, tin_filename):    \n",
    "    '''\n",
    "    this function has two input parameters.\n",
    "    filtra: 'yes' or 'no', yes means that the input csv file is ordered by default\n",
    "    directory: a string denoting the directory to a TIN file\n",
    "    tin_filename: a string denoting the file name of a tin without extension, e.g., 827_monviso\n",
    "    '''\n",
    "    if filtra.lower() == 'yes':\n",
    "        hdfs_tin_tri_origin = directory + \"/\" + tin_filename + '_filtra_tri_origin.csv'\n",
    "    else: # filtra.lower() == 'no'\n",
    "        hdfs_tin_tri_origin = directory + \"/\" + tin_filename + '_tri_origin.csv'\n",
    "        \n",
    "    schema_tri_origin = StructType([ \\\n",
    "        StructField(\"v1\",IntegerType(),True), \\\n",
    "        StructField(\"v2\",IntegerType(),True), \\\n",
    "        StructField(\"v3\",IntegerType(),True), \\\n",
    "        StructField(\"tri_order\",IntegerType(),True) \\\n",
    "      ])\n",
    "\n",
    "    df_tri_origin = spark.read.format(\"csv\") \\\n",
    "          .option(\"header\", False) \\\n",
    "          .schema(schema_tri_origin)\\\n",
    "          .load(hdfs_tin_tri_origin)\n",
    "    print(\"Number of partitions for df_tri_origin:\", df_tri_origin.rdd.getNumPartitions())\n",
    "        \n",
    "    return df_tri_origin"
   ]
  },
  {
   "cell_type": "code",
   "execution_count": 13,
   "id": "short-citizen",
   "metadata": {},
   "outputs": [
    {
     "name": "stdout",
     "output_type": "stream",
     "text": [
      "Number of partitions for df_tri_origin: 1\n",
      "root\n",
      " |-- v1: integer (nullable = true)\n",
      " |-- v2: integer (nullable = true)\n",
      " |-- v3: integer (nullable = true)\n",
      " |-- tri_order: integer (nullable = true)\n",
      "\n"
     ]
    }
   ],
   "source": [
    "# read triangles\n",
    "df_tri_origin = read_tri_order(filtra, directory, tin_filename)\n",
    "df_tri_origin.printSchema()"
   ]
  },
  {
   "cell_type": "code",
   "execution_count": 14,
   "id": "minus-civilian",
   "metadata": {},
   "outputs": [],
   "source": [
    "# replace_ver() replaces the original index of each vertex with filtra value in df_tri_origin\n",
    "def replace_ver(df_ver_order, df_tri_origin):\n",
    "    '''\n",
    "    df_ver_order: a DataFrame storing sorted vertices with filtra values\n",
    "    df_tri_origin: a DataFrame storing triangles from a TIN\n",
    "    '''\n",
    "    df_tri_order_v1 = df_tri_origin.join(df_ver_order, df_tri_origin.v1 == df_ver_order.self_index, \"inner\")\n",
    "    df_tri_order_v1 = df_tri_order_v1.select(col(\"tri_order\"), col(\"v1\"), col(\"v2\"), col(\"v3\"),col(\"self_order\").alias(\"r1\"), col(\"ele\").alias(\"r1_ele\"))\n",
    "\n",
    "    df_tri_order_v2 = df_tri_order_v1.join(df_ver_order, df_tri_order_v1.v2 == df_ver_order.self_index, \"inner\")\n",
    "    df_tri_order_v2 = df_tri_order_v2.select(col(\"tri_order\"), col(\"v1\"), col(\"v2\"), col(\"v3\"), col(\"r1\"), col(\"self_order\").alias(\"r2\"), col(\"r1_ele\"), col(\"ele\").alias(\"r2_ele\"))\n",
    "\n",
    "    df_tri_order_v3 = df_tri_order_v2.join(df_ver_order, df_tri_order_v2.v3 == df_ver_order.self_index, \"inner\")\n",
    "    df_tri_order_v3 = df_tri_order_v3.select(col(\"tri_order\"), col(\"v1\"), col(\"v2\"), col(\"v3\"), col(\"r1\"), col(\"r2\"), col(\"self_order\").alias(\"r3\"), col(\"r1_ele\"), col(\"r2_ele\"), col(\"ele\").alias(\"r3_ele\"))\n",
    "\n",
    "    df_tri_order = df_tri_order_v3.select(col(\"tri_order\"), col(\"r1\"), col(\"r2\"), col(\"r3\"), col(\"r1_ele\"), col(\"r2_ele\"), col(\"r3_ele\"))\n",
    "\n",
    "    return df_tri_order"
   ]
  },
  {
   "cell_type": "code",
   "execution_count": 15,
   "id": "efficient-quality",
   "metadata": {},
   "outputs": [
    {
     "name": "stdout",
     "output_type": "stream",
     "text": [
      "root\n",
      " |-- tri_order: integer (nullable = true)\n",
      " |-- r1: integer (nullable = true)\n",
      " |-- r2: integer (nullable = true)\n",
      " |-- r3: integer (nullable = true)\n",
      " |-- r1_ele: float (nullable = true)\n",
      " |-- r2_ele: float (nullable = true)\n",
      " |-- r3_ele: float (nullable = true)\n",
      "\n"
     ]
    }
   ],
   "source": [
    "# replaces original vertex index with filtra values\n",
    "df_tri_order = replace_ver(df_ver_order, df_tri_origin)\n",
    "df_tri_order.printSchema()"
   ]
  },
  {
   "cell_type": "code",
   "execution_count": 16,
   "id": "found-alpha",
   "metadata": {},
   "outputs": [
    {
     "name": "stdout",
     "output_type": "stream",
     "text": [
      "root\n",
      " |-- tri_order: integer (nullable = true)\n",
      " |-- r1: integer (nullable = true)\n",
      " |-- r2: integer (nullable = true)\n",
      " |-- r3: integer (nullable = true)\n",
      " |-- r1_ele: float (nullable = true)\n",
      " |-- r2_ele: float (nullable = true)\n",
      " |-- r3_ele: float (nullable = true)\n",
      " |-- tri: array (nullable = false)\n",
      " |    |-- element: integer (containsNull = true)\n",
      " |-- tri_ele: array (nullable = false)\n",
      " |    |-- element: float (containsNull = true)\n",
      "\n"
     ]
    },
    {
     "data": {
      "text/plain": [
       "200"
      ]
     },
     "execution_count": 16,
     "metadata": {},
     "output_type": "execute_result"
    }
   ],
   "source": [
    "# sort the extreme vertices of a triangle in ascending order, e.g., (2,5,3) -> (2,3,5)\n",
    "\n",
    "'''\n",
    "def get_tri_array(r1, r2, r3):\n",
    "# get_multi_pt_index is used to obtain the adjacent vertexes index, including the vertex itself\n",
    "# pt_list1: partial adjacent vertex indexes of join result 1\n",
    "# pt_list2: partial adjacent vertex indexes of join result 2\n",
    "    tri = [r1, r2, r3]    \n",
    "    tri.sort(reverse=True)\n",
    "    \n",
    "    return tri\n",
    "\n",
    "# convert a function to an udf and determine the return type\n",
    "# https://spark.apache.org/docs/3.1.3/api/python/reference/api/pyspark.sql.functions.udf.html\n",
    "get_tri_array_udf = udf(get_tri_array, ArrayType(IntegerType()))\n",
    "df_tri_order = df_tri_order.withColumn(\"tri\", get_tri_array_udf(df_tri_order.r1, df_tri_order.r2, df_tri_order.r3))\n",
    "'''\n",
    "\n",
    "df_tri_order = df_tri_order.withColumn(\"tri_origin\", F.array(\"r1\", \"r2\", \"r3\")).withColumn(\"tri_ele_origin\", F.array(\"r1_ele\", \"r2_ele\", \"r3_ele\"))\n",
    "df_tri_order = df_tri_order.withColumn(\"tri\", sort_array(\"tri_origin\", False)).drop(\"tri_origin\") # sort_array(\"tri\", False), False means descending order\n",
    "df_tri_order = df_tri_order.withColumn(\"tri_ele\", sort_array(\"tri_ele_origin\", False)).drop(\"tri_ele_origin\") # sort_array(\"tri\", False), False means descending order\n",
    "\n",
    "df_tri_order.printSchema()\n",
    "df_tri_order.rdd.getNumPartitions()\n",
    "#df_tri_order.show()"
   ]
  },
  {
   "cell_type": "markdown",
   "id": "serious-microphone",
   "metadata": {},
   "source": [
    "### get VT relation"
   ]
  },
  {
   "cell_type": "code",
   "execution_count": 17,
   "id": "bearing-numbers",
   "metadata": {},
   "outputs": [],
   "source": [
    "# union and group vertices and get the preliminary VT relation\n",
    "def grp_union(df_tri_order):\n",
    "    '''\n",
    "    df_tri_order: a DataFrame storing sorted extreme vertices of each triangle\n",
    "    '''\n",
    "    # groupby and collect_set\n",
    "    df_tri_group1 = df_tri_order.groupBy('r1','r1_ele').agg(collect_list('tri').alias('multi_tri'), collect_list('tri_ele').alias('multi_tri_ele'))\n",
    "    df_tri_group2 = df_tri_order.groupBy('r2','r2_ele').agg(collect_list('tri').alias('multi_tri'), collect_list('tri_ele').alias('multi_tri_ele'))\n",
    "    df_tri_group3 = df_tri_order.groupBy('r3', 'r3_ele').agg(collect_list('tri').alias('multi_tri'), collect_list('tri_ele').alias('multi_tri_ele'))\n",
    "    \n",
    "    union12 = df_tri_group1.union(df_tri_group2) # the title of union12 will be the same as df_sj_group1\n",
    "    union123 = union12.union(df_tri_group3) # the title of union123 will be the same as union12, so as df_sj_group1\n",
    "\n",
    "    union123_group = union123.groupBy('r1','r1_ele').agg(collect_list('multi_tri').alias('multi_tri_list'), collect_list('multi_tri_ele').alias('multi_tri_ele_list'))\n",
    "    \n",
    "    # print(\"the schema of union123_group:\", union123_group.printSchema())\n",
    "    return union123_group"
   ]
  },
  {
   "cell_type": "code",
   "execution_count": 18,
   "id": "adjustable-future",
   "metadata": {},
   "outputs": [
    {
     "name": "stdout",
     "output_type": "stream",
     "text": [
      "root\n",
      " |-- r1: integer (nullable = true)\n",
      " |-- r1_ele: float (nullable = true)\n",
      " |-- multi_tri_list: array (nullable = true)\n",
      " |    |-- element: array (containsNull = true)\n",
      " |    |    |-- element: array (containsNull = true)\n",
      " |    |    |    |-- element: integer (containsNull = true)\n",
      " |-- multi_tri_ele_list: array (nullable = true)\n",
      " |    |-- element: array (containsNull = true)\n",
      " |    |    |-- element: array (containsNull = true)\n",
      " |    |    |    |-- element: float (containsNull = true)\n",
      "\n"
     ]
    }
   ],
   "source": [
    "union123_group = grp_union(df_tri_order)\n",
    "union123_group.printSchema()"
   ]
  },
  {
   "cell_type": "code",
   "execution_count": 19,
   "id": "medium-geneva",
   "metadata": {},
   "outputs": [
    {
     "name": "stdout",
     "output_type": "stream",
     "text": [
      "root\n",
      " |-- Ver: integer (nullable = true)\n",
      " |-- VT_filtra: array (nullable = true)\n",
      " |    |-- element: array (containsNull = true)\n",
      " |    |    |-- element: integer (containsNull = true)\n",
      " |-- VT_ele: array (nullable = true)\n",
      " |    |-- element: array (containsNull = true)\n",
      " |    |    |-- element: float (containsNull = true)\n",
      "\n",
      "number of partitions for df_VT: 200\n"
     ]
    }
   ],
   "source": [
    "# sort the triangles in the preliminary VT relation\n",
    "def get_multi_tri_order(tri_list, tri_ele_list):\n",
    "    '''\n",
    "    get_multi_tri_order is used to obtain the adjacent triangles, the results are in ascending order, but the triangle itself is in descending\n",
    "    e.g., [[3, 2, 1], [5, 3, 2], [5, 3, 1]]\n",
    "    tri_list: an array of array of array of integer\n",
    "    tri_ele_list: an array of array of array of float\n",
    "    '''\n",
    "\n",
    "    tri = []\n",
    "    tri_ele = []\n",
    "    # pt_list.append(pt_self) # if we don't calculate roughness, we don't need self vertex\n",
    "    for i in range(len(tri_list)):\n",
    "        for j in range(len(tri_list[i])):\n",
    "            # if tri_list[i][j] not in tri: # we do not need to check if it exists in tri_list, because we can prove that each one is unique\n",
    "            tri.append(tri_list[i][j]) # update() will add multiple elements to a set, while add() only add one element to a set   \n",
    "            tri_ele.append(tri_ele_list[i][j])\n",
    "    \n",
    "    tri_copy = copy.deepcopy(tri) # deep copy tri\n",
    "    tri.sort() # sort the list of array, e.g., tri=[[3, 2, 1], [5, 2, 1], [5, 3, 1]], after sorting, [[3, 2, 1], [5, 2, 1], [5, 3, 1]]\n",
    "    \n",
    "    tri_ele_sort = []\n",
    "    # sort tri_ele according to the same rule as tri\n",
    "    for i in range(len(tri)):\n",
    "        index_in_tri_origin = tri_copy.index(tri[i])\n",
    "        tri_ele_sort.append(tri_ele[index_in_tri_origin])\n",
    "    \n",
    "    return tri, tri_ele_sort\n",
    "\n",
    "# convert a function to an udf and determine the return type\n",
    "# https://spark.apache.org/docs/3.1.3/api/python/reference/api/pyspark.sql.functions.udf.html\n",
    "\n",
    "# StructType for get_multi_tri_order        \n",
    "get_multi_tri_order_schema = StructType([\n",
    "    StructField(\"multi_tri_sort\", ArrayType(ArrayType(IntegerType())),True), \n",
    "    StructField('multi_tri_ele_sort',ArrayType(ArrayType(FloatType())),True)\n",
    "])\n",
    "\n",
    "get_multi_tri_order_udf = udf(get_multi_tri_order, get_multi_tri_order_schema)\n",
    "\n",
    "df_VT = union123_group.withColumn(\"multi_tri_order\", get_multi_tri_order_udf(union123_group.multi_tri_list, union123_group.multi_tri_ele_list))\n",
    "df_VT = df_VT.select(col(\"r1\").alias(\"Ver\"), col(\"multi_tri_order.multi_tri_sort\").alias(\"VT_filtra\"), col(\"multi_tri_order.multi_tri_ele_sort\").alias(\"VT_ele\"))\n",
    "df_VT.printSchema()\n",
    "print(\"number of partitions for df_VT:\", df_VT.rdd.getNumPartitions())"
   ]
  },
  {
   "cell_type": "markdown",
   "id": "known-ambassador",
   "metadata": {},
   "source": [
    "### obtain the lower star of each vertex"
   ]
  },
  {
   "cell_type": "code",
   "execution_count": 20,
   "id": "fourth-cuisine",
   "metadata": {},
   "outputs": [
    {
     "name": "stdout",
     "output_type": "stream",
     "text": [
      "root\n",
      " |-- Ver: integer (nullable = true)\n",
      " |-- VT_filtra: array (nullable = true)\n",
      " |    |-- element: array (containsNull = true)\n",
      " |    |    |-- element: integer (containsNull = true)\n",
      " |-- LS_edge: array (nullable = true)\n",
      " |    |-- element: array (containsNull = true)\n",
      " |    |    |-- element: integer (containsNull = true)\n",
      " |-- LS_tri_filtra: array (nullable = true)\n",
      " |    |-- element: array (containsNull = true)\n",
      " |    |    |-- element: integer (containsNull = true)\n",
      " |-- LS_tri_ele: array (nullable = true)\n",
      " |    |-- element: array (containsNull = true)\n",
      " |    |    |-- element: float (containsNull = true)\n",
      "\n",
      "number of partitions for df_LS: 200\n"
     ]
    }
   ],
   "source": [
    "# obtain Lower Star\n",
    "def get_LS(Ver, VT_filtra, VT_ele):\n",
    "# get_LS is used to obtain the edges and triangles of LS in ascending order\n",
    "# VV: an array of VV relation in ascending order\n",
    "    VV = set(num for sublist in VT_filtra for num in sublist if num != Ver)\n",
    "    VV = sorted(VV)\n",
    "        \n",
    "    LS_edge = []\n",
    "    for i in range(len(VV)):\n",
    "        if VV[i] < int(Ver):\n",
    "            LS_edge.append([int(Ver),VV[i]])\n",
    "        \n",
    "    LS_tri = []\n",
    "    LS_tri_ele = []\n",
    "    \n",
    "    for i in range(len(VT_filtra)):\n",
    "        if Ver >= max(VT_filtra[i]): # Ver_ele is not the maximum vertex\n",
    "            LS_tri.append(VT_filtra[i])\n",
    "            LS_tri_ele.append(VT_ele[i])\n",
    "                \n",
    "    return LS_edge, LS_tri, LS_tri_ele\n",
    "\n",
    "# StructType for get_multi_tri_order        \n",
    "get_LS_schema = StructType([\n",
    "    StructField(\"LS_edge\", ArrayType(ArrayType(IntegerType())),True), \n",
    "    StructField(\"LS_tri_filtra\", ArrayType(ArrayType(IntegerType())),True),\n",
    "    StructField('LS_tri_ele',ArrayType(ArrayType(FloatType())),True)\n",
    "])\n",
    "\n",
    "get_LS_udf = udf(get_LS, get_LS_schema)\n",
    "\n",
    "df_LS = df_VT.withColumn(\"LS\", get_LS_udf(df_VT.Ver, df_VT.VT_filtra, df_VT.VT_ele))\n",
    "df_LS = df_LS.select(\"Ver\", \"VT_filtra\", col(\"LS.LS_edge\").alias(\"LS_edge\"), col(\"LS.LS_tri_filtra\").alias(\"LS_tri_filtra\"), col(\"LS.LS_tri_ele\").alias(\"LS_tri_ele\"))\n",
    "df_LS.printSchema()\n",
    "print(\"number of partitions for df_LS:\", df_LS.rdd.getNumPartitions())\n",
    "# df_LS_edge.show()"
   ]
  },
  {
   "cell_type": "markdown",
   "id": "comparative-solid",
   "metadata": {},
   "source": [
    "### compute Forman Gradient"
   ]
  },
  {
   "cell_type": "code",
   "execution_count": 21,
   "id": "chief-pacific",
   "metadata": {},
   "outputs": [],
   "source": [
    "from collections import deque"
   ]
  },
  {
   "cell_type": "code",
   "execution_count": 22,
   "id": "entertaining-monster",
   "metadata": {},
   "outputs": [],
   "source": [
    "# get the Forman gradient from lower stars\n",
    "def get_Forman(Ver, LS_edge, LS_filtra, LS_ele):\n",
    "    '''\n",
    "    get_Forman is used to compute Forman gradient\n",
    "    LS_edge is triangles of lower star in ascending order\n",
    "    LS_tri is triangles of lower star in ascending order\n",
    "    '''\n",
    "    # inner udf to get the number of unpaired edges for a triangle\n",
    "    def num_unpaired_edges(tri_inner, crit_cell_inner, Forman_vec_pair_VE_inner, Forman_vec_pair_ET_inner):\n",
    "        # compute the number of unpaired edges\n",
    "        edge0 = [tri_inner[0], tri_inner[1]]\n",
    "        edge1 = [tri_inner[0], tri_inner[2]]\n",
    "        \n",
    "        num_unpaired_edge = 2\n",
    "        paired_edge = []\n",
    "        for crit_inner_temp in crit_cell_inner:\n",
    "            if len(crit_inner_temp) == 2: # crit_inner_temp is a critical edge\n",
    "                paired_edge.append(crit_inner_temp)\n",
    "                \n",
    "        for pair_vec in Forman_vec_pair_VE_inner: # pair_vec is a vector, it can be (ver, edge) or (edge, tri)\n",
    "            paired_edge.append(pair_vec[1])\n",
    "            # if type(pair_vec[0]) != int and len(pair_vec[0]) == 2: # pair_vec[0] is a paired edge, like in (edge, tri)\n",
    "                # paired_edge.append(pair_vec[0])\n",
    "            # if len(pair_vec[1]) == 2: # pair_vec[1] is a paired edge, like in (ver, edge)\n",
    "                # paired_edge.append(pair_vec[1])\n",
    "        for pair_vec in Forman_vec_pair_ET_inner: # pair_vec is a vector, it can be (ver, edge) or (edge, tri)\n",
    "            paired_edge.append(pair_vec[0])\n",
    "                \n",
    "        if edge0 in paired_edge:\n",
    "            num_unpaired_edge = num_unpaired_edge - 1\n",
    "        if edge1 in paired_edge:\n",
    "            num_unpaired_edge = num_unpaired_edge - 1\n",
    "            \n",
    "        return num_unpaired_edge\n",
    "    \n",
    "    # inner udf to get the edge which is paired with a triangles\n",
    "    def pair_an_edge_from_PQzero(alpha_inner, PQzero_inner):\n",
    "    # alpha_inner is a triangle in [r0, r1, r2] format, and the vertext's elevation is in descending order\n",
    "    # PQzero_inner is a queue storing all other edges\n",
    "        alpha_e0 = [alpha_inner[0], alpha_inner[1]]\n",
    "        alpha_e1 = [alpha_inner[0], alpha_inner[2]]\n",
    "        for edge_inner in PQzero_inner:\n",
    "            if edge_inner == alpha_e0:\n",
    "                return edge_inner\n",
    "            if edge_inner == alpha_e1:\n",
    "                return edge_inner\n",
    "            \n",
    "    crit_cell = [] # crit_cell will store critical simplices\n",
    "    # Forman_vec_pair = [] # Forman_vec_pair will store all Forman gradient pairs as a vector\n",
    "    Forman_vec_pair_VE = []\n",
    "    Forman_vec_pair_ET = []\n",
    "    if (len(LS_edge)+len(LS_filtra)) == 0: # ver is a local minimum\n",
    "        crit_cell.append([Ver]) # store minimum as an array [Ver] though it has only one element\n",
    "    elif len(LS_edge) > 0:\n",
    "        Forman_vec_pair_VE.append([Ver, LS_edge[0]]) # LS_edge[0] is the minimum edge since it is in ascending order\n",
    "        \n",
    "        # define two queues, PQzero storing all other edges, PQone storing all triangles which have only one unpaired edge\n",
    "        PQzero = deque()\n",
    "        PQone = deque()\n",
    "        PQone_ele = deque()\n",
    "        for i in range(1, len(LS_edge)): # add the other edges to PQzero\n",
    "            PQzero.append(LS_edge[i])\n",
    "            \n",
    "        cell_temp_index_of_remove = []\n",
    "        index_temp = 0\n",
    "        for cell_temp in LS_filtra:\n",
    "            if num_unpaired_edges(cell_temp, crit_cell, Forman_vec_pair_VE, Forman_vec_pair_ET) == 1:\n",
    "                PQone.append(cell_temp) # storing cells with one unpaired edges, which are triangles in TIN\n",
    "                PQone_ele.append(LS_ele[index_temp])\n",
    "                # remove cell_temp from LS_filtra\n",
    "                # LS_filtra.remove(cell_temp)\n",
    "                cell_temp_index_of_remove.append(index_temp)\n",
    "            index_temp += 1\n",
    "            \n",
    "        # remove cell_temp from LS_filtra and LS_ele\n",
    "        for i in reversed(cell_temp_index_of_remove):\n",
    "            del LS_filtra[i]\n",
    "            del LS_ele[i]\n",
    "                \n",
    "        # sort PQone in ascending order, the initial queue is already sorted when creating\n",
    "        # PQone = sorted(PQone) # sort() is not supported but we can use sorted()\n",
    "        # PQone = deque(PQone) # after sorting, PQone one will be a list instead of a queue, we need to reconstruct this queue\n",
    "        while len(PQone) > 0 or len(PQzero) > 0:\n",
    "            while len(PQone) > 0:\n",
    "                # alpha = PQone.popleft() # alpha is a triangle in the PQone\n",
    "                # alpha should be a triangle with lower elevation when PQone have more than one triangle\n",
    "                if len(PQone) > 1 and abs(PQone_ele[0][1]-PQone_ele[1][1]) < 0.000001 and PQone_ele[0][2] > PQone_ele[1][2]:\n",
    "                    alpha = PQone[1] # alpha is the second triangle\n",
    "                    del PQone[1]\n",
    "                    del PQone_ele[1]\n",
    "                else:\n",
    "                    alpha = PQone.popleft() # alpha is the first triangle, which is the same as alpha=PQone[0], then del PQone[0]\n",
    "                    del PQone_ele[0]\n",
    "                \n",
    "                if num_unpaired_edges(alpha, crit_cell, Forman_vec_pair_VE, Forman_vec_pair_ET) == 0:\n",
    "                    PQzero.append(alpha)\n",
    "                else:\n",
    "                    pair_alpha = pair_an_edge_from_PQzero(alpha, PQzero) # pair_alpha is an edge, [pair_alpha, alpha] will be a new paired vector\n",
    "                    # if pair_alpha in PQzero:\n",
    "                    PQzero.remove(pair_alpha) # remove pair_alpha from PQzero\n",
    "                    # Forman_vec_pair.append([pair_alpha, alpha]) # add the [pair_alpha, alpha], which is [edge, tri]\n",
    "                    Forman_vec_pair_ET.append([pair_alpha, alpha]) # add the [pair_alpha, alpha], which is [edge, tri]\n",
    "                    \n",
    "                    beta_cell_temp_index_of_remove = []\n",
    "                    beta_index_temp = 0\n",
    "                    for cell_beta in LS_filtra: # this can be optimized\n",
    "                        if cell_beta not in PQone and num_unpaired_edges(cell_beta, crit_cell, Forman_vec_pair_VE, Forman_vec_pair_ET) == 1:\n",
    "                            PQone.append(cell_beta)\n",
    "                            PQone_ele.append(LS_ele[beta_index_temp])\n",
    "                            # remove cell_beta from LS_tri\n",
    "                            # LS_tri.remove(cell_beta)\n",
    "                            beta_cell_temp_index_of_remove.append(beta_index_temp)\n",
    "                        beta_index_temp += 1\n",
    "                    \n",
    "                    # remove cell_beta from LS_filtra and LS_ele\n",
    "                    for i in reversed(beta_cell_temp_index_of_remove):\n",
    "                        del LS_filtra[i]\n",
    "                        del LS_ele[i]\n",
    "                    \n",
    "                    PQone = sorted(PQone)\n",
    "                    PQone = deque(PQone) # after sorting, PQone one will be a list instead of a queue, we need to reconstruct this queue\n",
    "            if len(PQzero) > 0:\n",
    "                gama = PQzero.popleft() # gama is a critical simplex\n",
    "                crit_cell.append(gama)\n",
    "                \n",
    "                gama_cell_temp_index_of_remove = []\n",
    "                gama_index_temp = 0\n",
    "                for cell_gama in LS_filtra: # this can be optimized\n",
    "                    if cell_gama not in PQone and num_unpaired_edges(cell_gama, crit_cell, Forman_vec_pair_VE, Forman_vec_pair_ET) == 1:\n",
    "                        PQone.append(cell_gama)\n",
    "                        PQone_ele.append(LS_ele[gama_index_temp])\n",
    "                        # remove cell_gama from LS_tri\n",
    "                        # LS_tri.remove(cell_gama)\n",
    "                        gama_cell_temp_index_of_remove.append(gama_index_temp)\n",
    "                    gama_index_temp += 1\n",
    "                    \n",
    "                # remove cell_beta from LS_filtra and LS_ele\n",
    "                for i in reversed(gama_cell_temp_index_of_remove):\n",
    "                    del LS_filtra[i]\n",
    "                    del LS_ele[i]\n",
    "                        \n",
    "                PQone = sorted(PQone)\n",
    "                PQone = deque(PQone) # after sorting, PQone one will be a list instead of a queue, we need to reconstruct this queue\n",
    "                \n",
    "    return crit_cell, Forman_vec_pair_VE, Forman_vec_pair_ET\n",
    "\n",
    "# StructType for Crit_cell        \n",
    "add_Crit_cell_schema = StructType([\n",
    "    StructField('Crit_cell',ArrayType(IntegerType()),True)\n",
    "])\n",
    "\n",
    "# StructType for VE pairs        \n",
    "add_VE_schema = StructType([\n",
    "    StructField(\"VE_pair_V\", IntegerType(),True), \n",
    "    StructField('VE_pair_E',ArrayType(IntegerType()),True)\n",
    "])\n",
    "\n",
    "# StructType for ET pairs        \n",
    "add_multi_ET_schema = StructType([\n",
    "    StructField(\"ET_pair_E\", ArrayType(IntegerType()),True), \n",
    "    StructField('ET_pair_T',ArrayType(IntegerType()),True)\n",
    "])\n",
    " \n",
    "# the whole StructType\n",
    "get_Forman_schema = StructType([\n",
    "    StructField(\"Crit_cell\", ArrayType(ArrayType(IntegerType())), True),\n",
    "    StructField(\"VE_pair\", ArrayType(add_VE_schema), True),\n",
    "    StructField(\"ET_pair\", ArrayType(add_multi_ET_schema), True)\n",
    "])\n",
    "\n",
    "# convert a function to an udf and determine the return type\n",
    "# https://spark.apache.org/docs/3.1.3/api/python/reference/api/pyspark.sql.functions.udf.html\n",
    "get_Forman_udf = udf(get_Forman, get_Forman_schema)"
   ]
  },
  {
   "cell_type": "code",
   "execution_count": 23,
   "id": "friendly-greek",
   "metadata": {},
   "outputs": [
    {
     "name": "stdout",
     "output_type": "stream",
     "text": [
      "root\n",
      " |-- Ver: integer (nullable = true)\n",
      " |-- VT_filtra: array (nullable = true)\n",
      " |    |-- element: array (containsNull = true)\n",
      " |    |    |-- element: integer (containsNull = true)\n",
      " |-- Forman: struct (nullable = true)\n",
      " |    |-- Crit_cell: array (nullable = true)\n",
      " |    |    |-- element: array (containsNull = true)\n",
      " |    |    |    |-- element: integer (containsNull = true)\n",
      " |    |-- VE_pair: array (nullable = true)\n",
      " |    |    |-- element: struct (containsNull = true)\n",
      " |    |    |    |-- VE_pair_V: integer (nullable = true)\n",
      " |    |    |    |-- VE_pair_E: array (nullable = true)\n",
      " |    |    |    |    |-- element: integer (containsNull = true)\n",
      " |    |-- ET_pair: array (nullable = true)\n",
      " |    |    |-- element: struct (containsNull = true)\n",
      " |    |    |    |-- ET_pair_E: array (nullable = true)\n",
      " |    |    |    |    |-- element: integer (containsNull = true)\n",
      " |    |    |    |-- ET_pair_T: array (nullable = true)\n",
      " |    |    |    |    |-- element: integer (containsNull = true)\n",
      "\n",
      "The number of partitions for df_Forman: 200\n"
     ]
    }
   ],
   "source": [
    "df_Forman = df_LS.withColumn(\"LS_Forman\", get_Forman_udf(df_LS.Ver, df_LS.LS_edge, df_LS.LS_tri_filtra, df_LS.LS_tri_ele))\n",
    "df_Forman = df_Forman.select(col(\"Ver\"), col(\"VT_filtra\"), col(\"LS_Forman\").alias(\"Forman\"))\n",
    "df_Forman.printSchema()\n",
    "print(\"The number of partitions for df_Forman:\", df_Forman.rdd.getNumPartitions())\n",
    "# df_Forman.show()"
   ]
  },
  {
   "cell_type": "markdown",
   "id": "substantial-edinburgh",
   "metadata": {},
   "source": [
    "### get Forman gradient"
   ]
  },
  {
   "cell_type": "code",
   "execution_count": 24,
   "id": "indie-flower",
   "metadata": {},
   "outputs": [],
   "source": [
    "# file_df_Forman = directory + '/' + tin_filename + '_sortForman' + '.parquet'\n",
    "# df_Forman = spark.read.parquet(file_df_Forman)\n",
    "# df_Forman.printSchema()"
   ]
  },
  {
   "cell_type": "markdown",
   "id": "promotional-witch",
   "metadata": {},
   "source": [
    "### Extract critical vertices, edeges, and triangles"
   ]
  },
  {
   "cell_type": "code",
   "execution_count": 25,
   "id": "signal-labor",
   "metadata": {},
   "outputs": [
    {
     "name": "stdout",
     "output_type": "stream",
     "text": [
      "number of partitions for df_crit: 200\n",
      "root\n",
      " |-- Ver: integer (nullable = true)\n",
      " |-- Critical: array (nullable = true)\n",
      " |    |-- element: array (containsNull = true)\n",
      " |    |    |-- element: integer (containsNull = true)\n",
      "\n"
     ]
    }
   ],
   "source": [
    "df_crit = df_Forman.select(\"Ver\", col(\"Forman.Crit_cell\").alias(\"Critical\"))\n",
    "print(\"number of partitions for df_crit:\", df_crit.rdd.getNumPartitions())\n",
    "df_crit.printSchema()\n",
    "# df_crit.show()"
   ]
  },
  {
   "cell_type": "code",
   "execution_count": 26,
   "id": "resistant-telephone",
   "metadata": {},
   "outputs": [
    {
     "name": "stdout",
     "output_type": "stream",
     "text": [
      "number of partitions for df_crit_VET: 200\n",
      "root\n",
      " |-- Ver: integer (nullable = true)\n",
      " |-- Critical: array (nullable = true)\n",
      " |    |-- element: array (containsNull = true)\n",
      " |    |    |-- element: integer (containsNull = true)\n",
      " |-- crit_cell: struct (nullable = true)\n",
      " |    |-- crit_ver: integer (nullable = true)\n",
      " |    |-- crit_edge: array (nullable = true)\n",
      " |    |    |-- element: array (containsNull = true)\n",
      " |    |    |    |-- element: integer (containsNull = true)\n",
      " |    |-- crit_tri: array (nullable = true)\n",
      " |    |    |-- element: array (containsNull = true)\n",
      " |    |    |    |-- element: integer (containsNull = true)\n",
      "\n"
     ]
    }
   ],
   "source": [
    "# split the Critical column to obtain the critical vertices, edges, and triangles\n",
    "def get_crit_VET(crit_cell):\n",
    "    if len(crit_cell) < 1: # crit_cell is empty, there are no critical simplices within this lower star\n",
    "        return\n",
    "    else:\n",
    "        # initialize the critical vertices, critical edges, and critical triangles\n",
    "        crit_ver = None\n",
    "        crit_edge = []\n",
    "        crit_tri = []\n",
    "        for icrit_cell_temp in crit_cell:\n",
    "            if len(icrit_cell_temp) == 1: # icrit_cell_temp stores a critical vertex\n",
    "                crit_ver = icrit_cell_temp[0]\n",
    "            if len(icrit_cell_temp) == 2: # icrit_cell_temp stores critical edges\n",
    "                crit_edge.append(icrit_cell_temp)\n",
    "            if len(icrit_cell_temp) == 3: # icrit_cell_temp stores critical triangles\n",
    "                crit_tri.append(icrit_cell_temp)\n",
    "        if len(crit_edge) == 0:\n",
    "            crit_edge = None\n",
    "        if len(crit_tri) == 0:\n",
    "            crit_tri = None\n",
    "        return crit_ver, crit_edge, crit_tri\n",
    "        \n",
    "# the whole StructType\n",
    "get_crit_VET_schema = StructType([\n",
    "    StructField(\"crit_ver\", IntegerType(), True),\n",
    "    StructField(\"crit_edge\", ArrayType(ArrayType(IntegerType())), True),\n",
    "    StructField(\"crit_tri\", ArrayType(ArrayType(IntegerType())), True)\n",
    "])\n",
    "\n",
    "# convert a function to an udf and determine the return type\n",
    "# https://spark.apache.org/docs/3.1.3/api/python/reference/api/pyspark.sql.functions.udf.html\n",
    "get_crit_VET_udf = udf(get_crit_VET, get_crit_VET_schema)\n",
    "\n",
    "df_crit_VET = df_crit.withColumn(\"crit_cell\", get_crit_VET_udf(df_crit.Critical))\n",
    "print(\"number of partitions for df_crit_VET:\", df_crit_VET.rdd.getNumPartitions())\n",
    "df_crit_VET.printSchema()\n",
    "# df_crit_VET.show()"
   ]
  },
  {
   "cell_type": "code",
   "execution_count": 27,
   "id": "genuine-hartford",
   "metadata": {},
   "outputs": [
    {
     "name": "stdout",
     "output_type": "stream",
     "text": [
      "root\n",
      " |-- Ver: integer (nullable = true)\n",
      " |-- Min_ver: integer (nullable = true)\n",
      "\n",
      "number of partitions for df_crit_V: 200\n"
     ]
    }
   ],
   "source": [
    "# to get critical vertices\n",
    "df_crit_V = df_crit_VET.select(col(\"Ver\"), col(\"crit_cell.crit_ver\").alias(\"Min_ver\")).na.drop()\n",
    "df_crit_V.printSchema()\n",
    "print(\"number of partitions for df_crit_V:\", df_crit_V.rdd.getNumPartitions())\n",
    "# df_crit_V.show()"
   ]
  },
  {
   "cell_type": "code",
   "execution_count": 28,
   "id": "accomplished-color",
   "metadata": {},
   "outputs": [
    {
     "name": "stdout",
     "output_type": "stream",
     "text": [
      "root\n",
      " |-- Ver: integer (nullable = true)\n",
      " |-- Saddle_edge: array (nullable = true)\n",
      " |    |-- element: integer (containsNull = true)\n",
      "\n",
      "number of partitions for df_crit_E: 200\n"
     ]
    }
   ],
   "source": [
    "# to get critical edges\n",
    "df_crit_E_init = df_crit_VET.select(col(\"Ver\"), col(\"crit_cell.crit_edge\").alias(\"Saddle_edge_init\"))\n",
    "\n",
    "# there may be multiple saddles inside one lower star\n",
    "df_crit_E = df_crit_E_init.select(col(\"Ver\"), explode(\"Saddle_edge_init\").alias(\"Saddle_edge\"))\n",
    "df_crit_E.printSchema()\n",
    "print(\"number of partitions for df_crit_E:\", df_crit_E.rdd.getNumPartitions())\n",
    "# df_crit_E.show()"
   ]
  },
  {
   "cell_type": "code",
   "execution_count": 29,
   "id": "stuffed-presentation",
   "metadata": {},
   "outputs": [
    {
     "name": "stdout",
     "output_type": "stream",
     "text": [
      "root\n",
      " |-- Ver: integer (nullable = true)\n",
      " |-- Max_tri: array (nullable = true)\n",
      " |    |-- element: integer (containsNull = true)\n",
      "\n",
      "number of partitions for df_crit_T: 200\n"
     ]
    }
   ],
   "source": [
    "# to get critical triangles\n",
    "df_crit_T_init = df_crit_VET.select(col(\"Ver\"), col(\"crit_cell.crit_tri\").alias(\"Max_tri_init\")).na.drop()\n",
    "\n",
    "# there could be multiple critical triangles within one lower star\n",
    "df_crit_T = df_crit_T_init.select(col(\"Ver\"), explode(\"Max_tri_init\").alias(\"Max_tri\")).na.drop()\n",
    "df_crit_T.printSchema()\n",
    "print(\"number of partitions for df_crit_T:\", df_crit_T.rdd.getNumPartitions())\n",
    "# df_crit_T.show()"
   ]
  },
  {
   "cell_type": "markdown",
   "id": "impaired-wesley",
   "metadata": {},
   "source": [
    "##### collect the critical vertices, edges, and triangles as a global array"
   ]
  },
  {
   "cell_type": "code",
   "execution_count": 30,
   "id": "functional-senegal",
   "metadata": {},
   "outputs": [],
   "source": [
    "# critical vertices array\n",
    "df_crit_V_col = df_crit_V.collect()\n",
    "\n",
    "# critical edges array\n",
    "df_crit_E_col = df_crit_E.collect()\n",
    "\n",
    "# critical triangles array\n",
    "df_crit_T_col = df_crit_T.collect()"
   ]
  },
  {
   "cell_type": "code",
   "execution_count": 31,
   "id": "weighted-reproduction",
   "metadata": {},
   "outputs": [
    {
     "data": {
      "text/plain": [
       "[Row(Ver=277, Min_ver=277),\n",
       " Row(Ver=1, Min_ver=1),\n",
       " Row(Ver=2, Min_ver=2),\n",
       " Row(Ver=0, Min_ver=0),\n",
       " Row(Ver=3, Min_ver=3)]"
      ]
     },
     "execution_count": 31,
     "metadata": {},
     "output_type": "execute_result"
    }
   ],
   "source": [
    "df_crit_V_col"
   ]
  },
  {
   "cell_type": "code",
   "execution_count": 32,
   "id": "hazardous-jungle",
   "metadata": {},
   "outputs": [
    {
     "data": {
      "text/plain": [
       "[Row(Ver=322, Saddle_edge=[322, 274]),\n",
       " Row(Ver=299, Saddle_edge=[299, 272]),\n",
       " Row(Ver=321, Saddle_edge=[321, 273]),\n",
       " Row(Ver=345, Saddle_edge=[345, 275]),\n",
       " Row(Ver=278, Saddle_edge=[278, 277])]"
      ]
     },
     "execution_count": 32,
     "metadata": {},
     "output_type": "execute_result"
    }
   ],
   "source": [
    "df_crit_E_col"
   ]
  },
  {
   "cell_type": "code",
   "execution_count": 33,
   "id": "sapphire-singer",
   "metadata": {},
   "outputs": [
    {
     "data": {
      "text/plain": [
       "[Row(Ver=624, Max_tri=[624, 620, 607])]"
      ]
     },
     "execution_count": 33,
     "metadata": {},
     "output_type": "execute_result"
    }
   ],
   "source": [
    "df_crit_T_col"
   ]
  },
  {
   "cell_type": "markdown",
   "id": "unlimited-police",
   "metadata": {},
   "source": [
    "### sort df_ver_order according to the self_order value, which is the filtration value"
   ]
  },
  {
   "cell_type": "code",
   "execution_count": 34,
   "id": "cleared-qatar",
   "metadata": {},
   "outputs": [],
   "source": [
    "df_ver_order = df_ver_order.sort(col('self_order'), ascending=True)\n",
    "\n",
    "# collect df_ver_order as a global array \n",
    "df_ver_order_col = df_ver_order.collect()"
   ]
  },
  {
   "cell_type": "code",
   "execution_count": 35,
   "id": "waiting-broadway",
   "metadata": {},
   "outputs": [
    {
     "data": {
      "text/plain": [
       "[Row(x=3.141590118408203, y=3.141590118408203, ele=-2.0, self_index=208, self_order=0),\n",
       " Row(x=9.424779891967773, y=3.141590118408203, ele=-2.0, self_index=224, self_order=1),\n",
       " Row(x=3.141590118408203, y=9.424779891967773, ele=-2.0, self_index=608, self_order=2),\n",
       " Row(x=9.424779891967773, y=9.424779891967773, ele=-2.0, self_index=624, self_order=3),\n",
       " Row(x=3.141590118408203, y=2.748889923095703, ele=-1.9238799810409546, self_index=183, self_order=4)]"
      ]
     },
     "execution_count": 35,
     "metadata": {},
     "output_type": "execute_result"
    }
   ],
   "source": [
    "df_ver_order_col[0:5]"
   ]
  },
  {
   "cell_type": "code",
   "execution_count": 112,
   "id": "twelve-disclaimer",
   "metadata": {},
   "outputs": [
    {
     "data": {
      "text/plain": [
       "3.141590118408203"
      ]
     },
     "execution_count": 112,
     "metadata": {},
     "output_type": "execute_result"
    }
   ],
   "source": [
    "df_ver_order_col[0]['x']"
   ]
  },
  {
   "cell_type": "markdown",
   "id": "casual-employment",
   "metadata": {},
   "source": [
    "##### collect VE pairs"
   ]
  },
  {
   "cell_type": "code",
   "execution_count": 60,
   "id": "smoking-clinton",
   "metadata": {},
   "outputs": [
    {
     "name": "stdout",
     "output_type": "stream",
     "text": [
      "root\n",
      " |-- Ver: integer (nullable = true)\n",
      " |-- VE_pair: array (nullable = true)\n",
      " |    |-- element: struct (containsNull = true)\n",
      " |    |    |-- VE_pair_V: integer (nullable = true)\n",
      " |    |    |-- VE_pair_E: array (nullable = true)\n",
      " |    |    |    |-- element: integer (containsNull = true)\n",
      "\n"
     ]
    }
   ],
   "source": [
    "df_Forman_VE_pair_init = df_Forman.select(col(\"Ver\"), col(\"Forman.VE_pair\").alias(\"VE_pair\"))\n",
    "df_Forman_VE_pair_init.printSchema()\n",
    "# df_Forman_VE_pair = df_Forman_VE_pair_init.select(explode(\"\"))"
   ]
  },
  {
   "cell_type": "code",
   "execution_count": 61,
   "id": "changed-madness",
   "metadata": {},
   "outputs": [],
   "source": [
    "df_Forman_VE_pair_init = df_Forman_VE_pair_init.sort(col('Ver'), ascending=True)\n",
    "df_Forman_VE_pair_init_col = df_Forman_VE_pair_init.collect()"
   ]
  },
  {
   "cell_type": "code",
   "execution_count": 63,
   "id": "adolescent-escape",
   "metadata": {},
   "outputs": [
    {
     "data": {
      "text/plain": [
       "[Row(Ver=0, VE_pair=[]),\n",
       " Row(Ver=1, VE_pair=[]),\n",
       " Row(Ver=2, VE_pair=[]),\n",
       " Row(Ver=3, VE_pair=[]),\n",
       " Row(Ver=4, VE_pair=[Row(VE_pair_V=4, VE_pair_E=[4, 0])])]"
      ]
     },
     "execution_count": 63,
     "metadata": {},
     "output_type": "execute_result"
    }
   ],
   "source": [
    "df_Forman_VE_pair_init_col[0:5]"
   ]
  },
  {
   "cell_type": "code",
   "execution_count": 68,
   "id": "stock-manufacturer",
   "metadata": {},
   "outputs": [
    {
     "data": {
      "text/plain": [
       "[Row(VE_pair_V=4, VE_pair_E=[4, 0])]"
      ]
     },
     "execution_count": 68,
     "metadata": {},
     "output_type": "execute_result"
    }
   ],
   "source": [
    "df_Forman_VE_pair_init_col[4]['VE_pair']"
   ]
  },
  {
   "cell_type": "code",
   "execution_count": 71,
   "id": "determined-shaft",
   "metadata": {},
   "outputs": [
    {
     "data": {
      "text/plain": [
       "[4, 0]"
      ]
     },
     "execution_count": 71,
     "metadata": {},
     "output_type": "execute_result"
    }
   ],
   "source": [
    "df_Forman_VE_pair_init_col[4]['VE_pair'][0]['VE_pair_E']"
   ]
  },
  {
   "cell_type": "markdown",
   "id": "alternative-shopping",
   "metadata": {},
   "source": [
    "##### collect ET pairs"
   ]
  },
  {
   "cell_type": "code",
   "execution_count": 48,
   "id": "tribal-ridge",
   "metadata": {},
   "outputs": [
    {
     "name": "stdout",
     "output_type": "stream",
     "text": [
      "root\n",
      " |-- ET_pair: array (nullable = true)\n",
      " |    |-- element: struct (containsNull = true)\n",
      " |    |    |-- ET_pair_E: array (nullable = true)\n",
      " |    |    |    |-- element: integer (containsNull = true)\n",
      " |    |    |-- ET_pair_T: array (nullable = true)\n",
      " |    |    |    |-- element: integer (containsNull = true)\n",
      "\n"
     ]
    }
   ],
   "source": [
    "# Method: firstly extract df_Forman_ET_pair from df_Forman\n",
    "df_Forman_ET_pair_init = df_Forman.select(col(\"Forman.ET_pair\").alias(\"ET_pair\"))\n",
    "df_Forman_ET_pair_init.printSchema()\n",
    "# df_Forman_ET_pair.show()"
   ]
  },
  {
   "cell_type": "code",
   "execution_count": 49,
   "id": "raising-desktop",
   "metadata": {},
   "outputs": [
    {
     "name": "stdout",
     "output_type": "stream",
     "text": [
      "root\n",
      " |-- col: struct (nullable = true)\n",
      " |    |-- ET_pair_E: array (nullable = true)\n",
      " |    |    |-- element: integer (containsNull = true)\n",
      " |    |-- ET_pair_T: array (nullable = true)\n",
      " |    |    |-- element: integer (containsNull = true)\n",
      "\n"
     ]
    }
   ],
   "source": [
    "df_Forman_ET_pair_init_explode = df_Forman_ET_pair_init.select(explode(\"ET_pair\"))\n",
    "df_Forman_ET_pair_init_explode.printSchema()"
   ]
  },
  {
   "cell_type": "code",
   "execution_count": 50,
   "id": "aquatic-cylinder",
   "metadata": {},
   "outputs": [
    {
     "name": "stdout",
     "output_type": "stream",
     "text": [
      "root\n",
      " |-- ET_pair_E: array (nullable = true)\n",
      " |    |-- element: integer (containsNull = true)\n",
      " |-- ET_pair_T: array (nullable = true)\n",
      " |    |-- element: integer (containsNull = true)\n",
      "\n"
     ]
    }
   ],
   "source": [
    "df_Forman_ET_pair = df_Forman_ET_pair_init_explode.select(df_Forman_ET_pair_init_explode.col.ET_pair_E.alias(\"ET_pair_E\"), df_Forman_ET_pair_init_explode.col.ET_pair_T.alias(\"ET_pair_T\"))\n",
    "df_Forman_ET_pair.printSchema()"
   ]
  },
  {
   "cell_type": "code",
   "execution_count": 51,
   "id": "frequent-plant",
   "metadata": {},
   "outputs": [],
   "source": [
    "df_Forman_ET_pair_col = df_Forman_ET_pair.collect()"
   ]
  },
  {
   "cell_type": "code",
   "execution_count": 89,
   "id": "quarterly-gothic",
   "metadata": {},
   "outputs": [
    {
     "data": {
      "text/plain": [
       "Row(ET_pair_E=[250, 184], ET_pair_T=[250, 184, 172])"
      ]
     },
     "execution_count": 89,
     "metadata": {},
     "output_type": "execute_result"
    }
   ],
   "source": [
    "df_Forman_ET_pair_col[0]"
   ]
  },
  {
   "cell_type": "code",
   "execution_count": 92,
   "id": "civil-vector",
   "metadata": {},
   "outputs": [
    {
     "data": {
      "text/plain": [
       "2"
      ]
     },
     "execution_count": 92,
     "metadata": {},
     "output_type": "execute_result"
    }
   ],
   "source": [
    "len(df_Forman_ET_pair_col[0]['ET_pair_E'])"
   ]
  },
  {
   "cell_type": "markdown",
   "id": "egyptian-worthy",
   "metadata": {},
   "source": [
    "### save Forman gradient"
   ]
  },
  {
   "cell_type": "code",
   "execution_count": null,
   "id": "racial-title",
   "metadata": {},
   "outputs": [],
   "source": [
    "# given the triangle id, obtain the xyz of the baricenter of this triangle\n",
    "def baricenterXYZ(tri_id):\n",
    "    tri_end_pts = df_graph_V2_node_col[tri_id]['tri']\n",
    "    v_0 = tri_end_pts[0]\n",
    "    v_1 = tri_end_pts[1]\n",
    "    v_2 = tri_end_pts[2]\n",
    "    x = (df_ver_order_col[v_0]['x'] + df_ver_order_col[v_1]['x'] + df_ver_order_col[v_2]['x'])/3.0\n",
    "    y = (df_ver_order_col[v_0]['y'] + df_ver_order_col[v_1]['y'] + df_ver_order_col[v_2]['y'])/3.0\n",
    "    z = (df_ver_order_col[v_0]['ele'] + df_ver_order_col[v_1]['ele'] + df_ver_order_col[v_2]['ele'])/3.0\n",
    "    return x, y, z"
   ]
  },
  {
   "cell_type": "code",
   "execution_count": null,
   "id": "stunning-restriction",
   "metadata": {},
   "outputs": [],
   "source": [
    "# given the triangle id, obtain the xyz of the baricenter of this triangle\n",
    "def baricenterXYZ_from_ptArray(v_0, v_1, v_2):\n",
    "    x = (df_ver_order_col[v_0]['x'] + df_ver_order_col[v_1]['x'] + df_ver_order_col[v_2]['x'])/3.0\n",
    "    y = (df_ver_order_col[v_0]['y'] + df_ver_order_col[v_1]['y'] + df_ver_order_col[v_2]['y'])/3.0\n",
    "    z = (df_ver_order_col[v_0]['ele'] + df_ver_order_col[v_1]['ele'] + df_ver_order_col[v_2]['ele'])/3.0\n",
    "    return x, y, z"
   ]
  },
  {
   "cell_type": "code",
   "execution_count": null,
   "id": "funny-bracelet",
   "metadata": {},
   "outputs": [],
   "source": [
    "# given the array of vertex id of an edge, obtain the xyz of its mid-point\n",
    "def mid_pt_edge(v_0, v_1):\n",
    "    x = (df_ver_order_col[v_0]['x'] + df_ver_order_col[v_1]['x'])/2.0\n",
    "    y = (df_ver_order_col[v_0]['y'] + df_ver_order_col[v_1]['y'])/2.0\n",
    "    z = (df_ver_order_col[v_0]['ele'] + df_ver_order_col[v_1]['ele'])/2.0\n",
    "    return x, y, z"
   ]
  },
  {
   "cell_type": "code",
   "execution_count": null,
   "id": "historical-viking",
   "metadata": {},
   "outputs": [],
   "source": [
    "# given teh triangle ids of two adjacent triangle, obtain the xyz of the mid-point of the common edge\n",
    "def mid_pt_XYZ(tri_id_0, tri_id_1):\n",
    "    tri_end_pts_0 = df_graph_V2_node_col[tri_id_0]['tri']\n",
    "    tri_end_pts_1 = df_graph_V2_node_col[tri_id_1]['tri']\n",
    "    # get the common edge of these two triangles\n",
    "    intersection = set(tri_end_pts_0) & set(tri_end_pts_1)\n",
    "    edge = list(intersection)\n",
    "    v_0 = edge[0]\n",
    "    v_1 = edge[1]\n",
    "    x = (df_ver_order_col[v_0]['x'] + df_ver_order_col[v_1]['x'])/2.0\n",
    "    y = (df_ver_order_col[v_0]['y'] + df_ver_order_col[v_1]['y'])/2.0\n",
    "    z = (df_ver_order_col[v_0]['ele'] + df_ver_order_col[v_1]['ele'])/2.0\n",
    "    return x, y, z"
   ]
  },
  {
   "cell_type": "code",
   "execution_count": 82,
   "id": "broken-table",
   "metadata": {},
   "outputs": [],
   "source": [
    "# get the gradient vertor of a VE pair\n",
    "def gradient_VE(v_order, paired_e):\n",
    "    v_x = df_ver_order_col[v_order]['x']\n",
    "    v_y = df_ver_order_col[v_order]['y']\n",
    "    v_z = df_ver_order_col[v_order]['ele']\n",
    "            \n",
    "    # get the other vertex different from v_order\n",
    "    if v_order == paired_e[0]:\n",
    "        v_other = paired_e[1]\n",
    "    else:\n",
    "        v_other = paired_e[0]\n",
    "     \n",
    "    # xyz of the other vertex\n",
    "    v_other_x = df_ver_order_col[v_other]['x']\n",
    "    v_other_y = df_ver_order_col[v_other]['y']\n",
    "    v_other_z = df_ver_order_col[v_other]['ele']\n",
    "    \n",
    "    # the vector is the difference between mid-point and an end point\n",
    "    vec_x = (v_other_x + v_x)/2.0 - v_x\n",
    "    vec_y = (v_other_y + v_y)/2.0 - v_y\n",
    "    vec_z = (v_other_z + v_z)/2.0 - v_z\n",
    "    \n",
    "    return [vec_x, vec_y, vec_z]"
   ]
  },
  {
   "cell_type": "code",
   "execution_count": 115,
   "id": "prime-headset",
   "metadata": {},
   "outputs": [],
   "source": [
    "def write_gradient(output_vtk):\n",
    "    vertices_num = len(df_Forman_VE_pair_init_col) + len(df_Forman_ET_pair_col)\n",
    "        \n",
    "    with open(output_vtk, 'w', newline='') as writer:\n",
    "        writer.write('# vtk DataFile Version 2.0\\n')\n",
    "        writer.write('\\n')\n",
    "        writer.write('ASCII\\n')\n",
    "        writer.write('DATASET UNSTRUCTURED_GRID\\n')\n",
    "        writer.write('\\n')\n",
    "        writer.write(f'POINTS {vertices_num} float\\n')\n",
    "        \n",
    "        # write vertices involved in VE pairs and critical vertices, they are mixed\n",
    "        v_crit_or_not = []\n",
    "        v_gradient_vect = []\n",
    "        for i in range(len(df_Forman_VE_pair_init_col)):\n",
    "            v_order = df_Forman_VE_pair_init_col[i]['Ver']\n",
    "            v_x = df_ver_order_col[v_order]['x']\n",
    "            v_y = df_ver_order_col[v_order]['y']\n",
    "            v_z = df_ver_order_col[v_order]['ele']\n",
    "            writer.write(f\"{v_x:.6f} {v_y:.6f} {v_z:.6f}\\n\")\n",
    "            \n",
    "            # check if this is a critical vertex\n",
    "            if len(df_Forman_VE_pair_init_col[i]['VE_pair']) == 0:\n",
    "                # this is a critical vertex\n",
    "                v_crit_or_not.append(0)\n",
    "                # append its gradient vector as [0,0,0]\n",
    "                v_gradient_vect.append([0,0,0])\n",
    "            else:\n",
    "                # this is a regular vertex\n",
    "                v_crit_or_not.append(-1)\n",
    "                \n",
    "                # calculate the gradient of this vertex\n",
    "                paired_e = df_Forman_VE_pair_init_col[i]['VE_pair'][0]['VE_pair_E']\n",
    "                v_gradient_vect.append(gradient_VE(v_order, paired_e))\n",
    "                \n",
    "        \n",
    "        # write edges involved in ET pairs, critical edges are not considered\n",
    "        e_gradient_vect = []\n",
    "        for i in range(len(df_Forman_ET_pair_col)):\n",
    "            # write the mid-point of an edge\n",
    "            e = df_Forman_ET_pair_col[i]['ET_pair_E']\n",
    "            e_mid_x, e_mid_y, e_mid_z = mid_pt_edge(e[0], e[1])\n",
    "            writer.write(f\"{e_mid_x:.6f} {e_mid_y:.6f} {e_mid_z:.6f}\\n\")\n",
    "            \n",
    "            # calculate the gradient of this edge\n",
    "            paired_t = df_Forman_ET_pair_col[i]['ET_pair_T']\n",
    "            paired_t_bariCen_x, paired_t_bariCen_y, paired_t_bariCen_z = baricenterXYZ_from_ptArray(paired_t[0], paired_t[1], paired_t[2])\n",
    "            e_gradient_vect.append([paired_t_bariCen_x - e_mid_x, paired_t_bariCen_y - e_mid_y, paired_t_bariCen_z - e_mid_z])\n",
    "            \n",
    "        \n",
    "        # write triangles involved in the ET pairs, critical triangles are not considered\n",
    "        writer.write('\\n')\n",
    "        writer.write('\\n')\n",
    "        tri_num = len(df_Forman_ET_pair_col)\n",
    "        writer.write(f\"CELLS {tri_num} {tri_num*4}\\n\")\n",
    "        for i in range(len(df_Forman_ET_pair_col)):\n",
    "            paired_t = df_Forman_ET_pair_col[i]['ET_pair_T']\n",
    "            writer.write(f\"3 {paired_t[0]} {paired_t[1]}  {paired_t[2]}\\n\")\n",
    "            \n",
    "        writer.write('\\n')\n",
    "        writer.write(f\"CELL_TYPES {tri_num}\\n\")\n",
    "        for i in range(tri_num):\n",
    "            writer.write('5 ')\n",
    "            \n",
    "        writer.write('\\n')\n",
    "        writer.write('\\n')\n",
    "        \n",
    "        writer.write(f'POINT_DATA {vertices_num}\\n')\n",
    "        writer.write(f'VECTORS vector float\\n')\n",
    "        for i in range(len(df_Forman_VE_pair_init_col)):\n",
    "            writer.write(f'{v_gradient_vect[i][0]:.6f} {v_gradient_vect[i][1]:.6f} {v_gradient_vect[i][2]:.6f} ')\n",
    "            \n",
    "        for i in range(len(df_Forman_ET_pair_col)):\n",
    "            writer.write(f'{e_gradient_vect[i][0]:.6f} {e_gradient_vect[i][1]:.6f} {e_gradient_vect[i][2]:.6f} ')\n",
    "            \n",
    "        writer.write('\\n')\n",
    "        writer.write('\\n')\n",
    "        \n",
    "        writer.write(f'FIELD FieldData 1\\n')\n",
    "        writer.write(f'critical 1 {vertices_num} int\\n')\n",
    "        for i in range(len(df_Forman_VE_pair_init_col)):\n",
    "            writer.write(f'{v_crit_or_not[i]} ')\n",
    "            \n",
    "        for i in range(len(df_Forman_ET_pair_col)):\n",
    "            writer.write(f'-1 ')\n",
    "        \n",
    "        writer.write('\\n\\n')\n",
    "        writer.close()\n",
    "        \n",
    "    print(\"Writing gradient complete.\")"
   ]
  },
  {
   "cell_type": "code",
   "execution_count": 116,
   "id": "fitting-secret",
   "metadata": {},
   "outputs": [
    {
     "name": "stdout",
     "output_type": "stream",
     "text": [
      "Writing gradient complete.\n"
     ]
    }
   ],
   "source": [
    "output_vtk_grad = '/home/qiany/yuehui/pyspark/data/' + tin_filename + '_gradient_' + date_name + '.vtk'\n",
    "\n",
    "write_gradient(output_vtk_grad)"
   ]
  },
  {
   "cell_type": "code",
   "execution_count": null,
   "id": "settled-compression",
   "metadata": {},
   "outputs": [],
   "source": []
  }
 ],
 "metadata": {
  "kernelspec": {
   "display_name": "Python 3",
   "language": "python",
   "name": "python3"
  },
  "language_info": {
   "codemirror_mode": {
    "name": "ipython",
    "version": 3
   },
   "file_extension": ".py",
   "mimetype": "text/x-python",
   "name": "python",
   "nbconvert_exporter": "python",
   "pygments_lexer": "ipython3",
   "version": "3.7.7"
  }
 },
 "nbformat": 4,
 "nbformat_minor": 5
}
