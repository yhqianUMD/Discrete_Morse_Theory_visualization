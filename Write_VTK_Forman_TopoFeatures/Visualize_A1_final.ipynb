{
 "cells": [
  {
   "cell_type": "code",
   "execution_count": 1,
   "id": "better-elite",
   "metadata": {},
   "outputs": [],
   "source": [
    "import findspark\n",
    "import os\n",
    "#findspark.init() \n",
    "SPARK_HOME='/opt/cloudera/parcels/CDH/lib/spark'\n",
    "# SPARK_HOME='/home/qiany/.conda/envs/py37'\n",
    "# os.environ['SPARK_HOME'] = '/home/qiany/.conda/envs/py37'\n",
    "findspark.init(SPARK_HOME)"
   ]
  },
  {
   "cell_type": "code",
   "execution_count": 2,
   "id": "silver-increase",
   "metadata": {},
   "outputs": [],
   "source": [
    "import time\n",
    "import math\n",
    "import copy\n",
    "import csv\n",
    "import json\n",
    "import os\n",
    "import codecs\n",
    "import subprocess\n",
    "#from hdfs import InsecureClient\n",
    "import numpy as np\n",
    "#from pyspark import SparkContext\n",
    "from pyspark import SQLContext\n",
    "from pyspark.sql import Row\n",
    "from pyspark.sql import functions as F\n",
    "from pyspark.sql.functions import create_map\n",
    "from pyspark.sql.functions import array_union,flatten,array_sort,coalesce,broadcast,collect_list, collect_set, udf, array_remove, log, lit, first, col, array, sort_array,split, explode, desc, asc, row_number,isnan, when, count\n",
    "from pyspark.sql.types import *\n",
    "import rtree\n",
    "from pyspark.sql import Window\n",
    "#import igraph\n",
    "#from igraph import Graph\n",
    "import geofeather\n",
    "from pyspark.storagelevel import StorageLevel"
   ]
  },
  {
   "cell_type": "code",
   "execution_count": 3,
   "id": "statewide-optics",
   "metadata": {},
   "outputs": [
    {
     "name": "stdin",
     "output_type": "stream",
     "text": [
      "Here is a programe to compute the Forman gradient, please input the absolute or relative path to your TIN file: cos_sum.tri\n"
     ]
    },
    {
     "name": "stdout",
     "output_type": "stream",
     "text": [
      "\n",
      "********************\n",
      "tin_directory:  \n"
     ]
    },
    {
     "name": "stdin",
     "output_type": "stream",
     "text": [
      "Is the data stored in hdfs(0) or SigSpatial(1): 0\n"
     ]
    },
    {
     "name": "stdout",
     "output_type": "stream",
     "text": [
      "tin_basename:  cos_sum.tri\n",
      "tin_filename:  cos_sum\n",
      "tin_extension:  .tri\n",
      "\n",
      "********************\n"
     ]
    }
   ],
   "source": [
    "tin_file = input(\"Here is a programe to compute the Forman gradient, please input the absolute or relative path to your TIN file:\")\n",
    "print(\"\\n********************\")\n",
    "\n",
    "# get the directory to the TIN file\n",
    "tin_directory = os.path.dirname(tin_file)\n",
    "print(\"tin_directory: \", tin_directory)\n",
    "\n",
    "directory_type = input(\"Is the data stored in hdfs(0) or SigSpatial(1):\") or \"1\"\n",
    "if directory_type == '0':\n",
    "    directory = 'hdfs_data'\n",
    "else:\n",
    "    directory = 'SigSpatial_data'\n",
    "    \n",
    "# get the basename to the TIN file\n",
    "tin_basename = os.path.basename(tin_file) # input_vertices_2.off\n",
    "print(\"tin_basename: \", tin_basename)\n",
    "\n",
    "# get the filename of the TIN file\n",
    "tin_filename = os.path.splitext(tin_basename)[0] # input_vertices_2\n",
    "print(\"tin_filename: \", tin_filename)\n",
    "\n",
    "# get the type of TIN file: off, tri, etc\n",
    "tin_extension = os.path.splitext(tin_basename)[1] # .off\n",
    "print(\"tin_extension: \", tin_extension)\n",
    "print(\"\\n********************\")"
   ]
  },
  {
   "cell_type": "code",
   "execution_count": 4,
   "id": "future-westminster",
   "metadata": {},
   "outputs": [
    {
     "name": "stdin",
     "output_type": "stream",
     "text": [
      "Do you have filtration data? yes\n",
      "Is this graph VE (0) or ET (1)? 1\n",
      "spark.executor.instances: \n",
      "spark.executor.cores: \n",
      "spark.executor.memory? Please end with 'g': \n",
      "spark.executor.memoryOverhead? Please end with 'g': \n",
      "spark.sql.shuffle.partitions: \n"
     ]
    }
   ],
   "source": [
    "# filtra is the order of each vertex, the order is obtained by ranking elevation values of vertices\n",
    "filtra = input(\"Do you have filtration data?\") or \"yes\"\n",
    "# filtra = 'yes'\n",
    "\n",
    "if filtra.lower() == 'no':    \n",
    "    Basic_Data = input(\"Do you have basic pts and tri data?\")\n",
    "    \n",
    "graph = input(\"Is this graph VE (0) or ET (1)?\") or \"1\"\n",
    "Num_executor = input(\"spark.executor.instances:\") or \"4\"\n",
    "Num_core_per_executor = input(\"spark.executor.cores:\") or \"5\"\n",
    "Memory_executor = input(\"spark.executor.memory? Please end with 'g':\") or \"28g\"\n",
    "MemoryOverhead_executor = input(\"spark.executor.memoryOverhead? Please end with 'g':\") or \"16g\"\n",
    "\n",
    "# Num_core_per_driver = Num_core_per_executor\n",
    "# Memory_driver = Memory_executor\n",
    "# MemoryOverhead_driver = MemoryOverhead_executor\n",
    "\n",
    "Num_core_per_driver = '5'\n",
    "Memory_driver = '12g'\n",
    "MemoryOverhead_driver = '4g'\n",
    "\n",
    "Num_shuffle_partitions = input(\"spark.sql.shuffle.partitions:\") or \"200\""
   ]
  },
  {
   "cell_type": "code",
   "execution_count": 5,
   "id": "absolute-assembly",
   "metadata": {},
   "outputs": [],
   "source": [
    "from pyspark.sql import SparkSession\n",
    "from pyspark import StorageLevel\n",
    "import geopandas as gpd\n",
    "import pandas as pd\n",
    "from pyspark.sql.types import StructType, StructField, StringType, IntegerType, LongType, FloatType, ArrayType, MapType\n",
    "from shapely.geometry import Point\n",
    "from shapely.geometry import Polygon\n",
    "\n",
    "from sedona.register import SedonaRegistrator\n",
    "from sedona.core.SpatialRDD import SpatialRDD, PointRDD, CircleRDD, PolygonRDD, LineStringRDD\n",
    "from sedona.core.enums import FileDataSplitter\n",
    "from sedona.utils.adapter import Adapter\n",
    "from sedona.core.spatialOperator import KNNQuery\n",
    "from sedona.core.spatialOperator import JoinQuery\n",
    "from sedona.core.spatialOperator import JoinQueryRaw\n",
    "from sedona.core.spatialOperator import RangeQuery\n",
    "from sedona.core.spatialOperator import RangeQueryRaw\n",
    "from sedona.core.formatMapper.shapefileParser import ShapefileReader\n",
    "from sedona.core.formatMapper import WkbReader\n",
    "from sedona.core.formatMapper import WktReader\n",
    "from sedona.core.formatMapper import GeoJsonReader\n",
    "from sedona.sql.types import GeometryType\n",
    "from sedona.core.enums import GridType\n",
    "from sedona.core.SpatialRDD import RectangleRDD\n",
    "from sedona.core.enums import IndexType\n",
    "from sedona.core.geom.envelope import Envelope\n",
    "from sedona.utils import SedonaKryoRegistrator, KryoSerializer"
   ]
  },
  {
   "cell_type": "code",
   "execution_count": 6,
   "id": "hired-isaac",
   "metadata": {},
   "outputs": [],
   "source": [
    "os.environ['PYSPARK_PYTHON'] = \"./environment/bin/python\"\n",
    "#os.environ['PYSPARK_PYTHON'] = \"/home/qiany/.conda/envs/py37/bin/python\"\n",
    "os.environ['YARN_CONF_DIR'] = \"/opt/cloudera/parcels/CDH/lib/spark/conf/yarn-conf\""
   ]
  },
  {
   "cell_type": "code",
   "execution_count": 7,
   "id": "persistent-healthcare",
   "metadata": {},
   "outputs": [
    {
     "name": "stdout",
     "output_type": "stream",
     "text": [
      "spark_app_name: Visualize_A1_cos_sum_04032024_1437\n"
     ]
    }
   ],
   "source": [
    "'''\n",
    "spark.executor.cores: # Number of concurrent tasks an executor can run, euqals to the number of cores to use on each executor\n",
    "spark.executor.instances: # Number of executors for the spark application\n",
    "spark.executor.memory: # Amount of memory to use for each executor that runs the task\n",
    "spark.executor.memoryOverhead:\n",
    "spark.driver.cores: # Number of cores to use for the driver process; the default number is 1\n",
    "spark.driver.memory: # Amount of memory to use for the driver\n",
    "spark.driver.maxResultSize: to define the maximum limit of the total size of the serialized result that a driver can store for each Spark collect action\n",
    "spark.default.parallelism: # Default number of partitions in RDDs returned by transformations like join, reduceByKey, and parallelize when not set by user. It can be set as spark.executor.instances * spark.executor.cores * 2\n",
    "spark.sql.shuffle.partitions: determine how many partitions are used when data is shuffled between nodes, e.g., joins or aggregations. usually 1~5 times of executor.instances * executor.cores\n",
    "spark.memory.storageFraction: determines the fraction of the heap space that is allocated to caching RDDs and DataFrames in memory.\n",
    "spark.kryoserializer.buffer.max: determine the maximum of data that can be serialized at once; this must be larger than any object we attempt to serialize\n",
    "spark.rpc.message.maxSize: # Maximum message size (in MiB) to allow in \"control plane\" communication; generally only applies to map output size information sent between executors and the driver. To communicate between the nodes, Spark uses a protocol called RPC (Remote Procedure Call), which sends messages back and forth. The spark.rpc.message.maxSize parameter limits how big these messages can be. \n",
    "spark.sql.broadcastTimeout: Spark will wait for this amount of time before giving up on broadcasting a table. Broadcasting can take a long time if the table is large or if there is a shuffle operation before it.\n",
    "spark.sql.autoBroadcastJoinThreshold: Spark will broadcast a table to all worker nodes when performing a join if its size is less than this value; -1 means disabling broadcasting\n",
    "'''\n",
    "\n",
    "date = time.strftime(\"%m,%d,%Y\")\n",
    "date_name = date.split(',')[0] + date.split(',')[1] + date.split(',')[2]\n",
    "\n",
    "hour = time.strftime(\"%H,%M\")\n",
    "hour_name = hour.split(',')[0] + hour.split(',')[1]\n",
    "\n",
    "# set the Spark app name\n",
    "spark_app_name = \"Visualize_A1_\" + tin_filename + '_' + date_name + '_' + hour_name\n",
    "print(\"spark_app_name:\", spark_app_name)\n",
    "\n",
    "spark = SparkSession \\\n",
    ".builder \\\n",
    ".appName(spark_app_name) \\\n",
    ".master('yarn') \\\n",
    ".config(\"spark.serializer\", KryoSerializer.getName) \\\n",
    ".config(\"spark.kryo.registrator\", SedonaKryoRegistrator.getName) \\\n",
    ".config('spark.jars','sedona-core-2.4_2.11-1.0.0-incubating.jar,sedona-sql-2.4_2.11-1.0.0-incubating.jar,sedona-python-adapter-2.4_2.11-1.0.0-incubating.jar,sedona-viz-2.4_2.11-1.0.0-incubating.jar,geotools-wrapper-geotools-24.0.jar,graphframes-0.8.0-spark2.4-s_2.11.jar') \\\n",
    ".config('spark.executor.cores', Num_core_per_executor) \\\n",
    ".config('spark.executor.instances', Num_executor) \\\n",
    ".config('spark.executor.memory', Memory_executor) \\\n",
    ".config('spark.executor.memoryOverhead', MemoryOverhead_executor) \\\n",
    ".config('spark.driver.cores', Num_core_per_driver) \\\n",
    ".config('spark.driver.memory', Memory_driver) \\\n",
    ".config('spark.driver.memoryOverhead', MemoryOverhead_driver) \\\n",
    ".config('spark.driver.maxResultSize', '0') \\\n",
    ".config('spark.dynamicAllocation.enabled', 'false') \\\n",
    ".config('spark.network.timeout', '10000001s') \\\n",
    ".config('spark.executor.heartbeatInterval', '10000000s') \\\n",
    ".config('spark.sql.shuffle.partitions', Num_shuffle_partitions) \\\n",
    ".config(\"spark.default.parallelism\", '200') \\\n",
    ".config(\"spark.kryoserializer.buffer.max\", \"1024mb\") \\\n",
    ".config('spark.rpc.message.maxSize', '256') \\\n",
    ".config(\"spark.sql.broadcastTimeout\", \"36000\") \\\n",
    ".config(\"spark.sql.autoBroadcastJoinThreshold\", \"-1\") \\\n",
    ".config(\"spark.python.profile\", \"true\") \\\n",
    ".config(\"spark.eventLog.enabled\", \"true\") \\\n",
    ".config('spark.yarn.dist.archives', '/local/data/yuehui/py37.tar.gz#environment') \\\n",
    ".getOrCreate()"
   ]
  },
  {
   "cell_type": "code",
   "execution_count": 8,
   "id": "essential-alloy",
   "metadata": {},
   "outputs": [],
   "source": [
    "import sys\n",
    "sys.path.append(\"/local/data/yuehui/pyspark/FormanGradient/code\")"
   ]
  },
  {
   "cell_type": "code",
   "execution_count": 9,
   "id": "electoral-enemy",
   "metadata": {},
   "outputs": [],
   "source": [
    "import graphframes\n",
    "from graphframes import GraphFrame\n",
    "from graphframes import *\n",
    "from graphframes.lib import Pregel"
   ]
  },
  {
   "cell_type": "code",
   "execution_count": 10,
   "id": "nasty-newsletter",
   "metadata": {},
   "outputs": [],
   "source": [
    "# read_ver_order() is a function used to read vertices from a csv file\n",
    "def read_ver_order(filtra, directory, tin_filename):\n",
    "    '''\n",
    "    this function has three input parameters.\n",
    "    filtra: 'yes' or 'no', yes means that the input csv file is ordered by default\n",
    "    directory: a string denoting the directory to a TIN file\n",
    "    tin_filename: a string denoting the file name of a TIN without extension, e.g., Canyon_Lake_Gorge_TX\n",
    "    '''\n",
    "    if filtra.lower() == 'yes': # 'yes' means we have already computed the filtra value for each vertex\n",
    "        schema_ver_origin = StructType([ \\\n",
    "            StructField(\"x\",FloatType(),True), \\\n",
    "            StructField(\"y\",FloatType(),True), \\\n",
    "            StructField(\"ele\",FloatType(),True), \\\n",
    "            StructField(\"self_index\",IntegerType(),True), \\\n",
    "            StructField(\"self_order\",IntegerType(),True) \\\n",
    "          ])\n",
    "        \n",
    "        hdfs_tin_pts_origin = directory + \"/\" + tin_filename + '_filtra_pts_origin.csv'\n",
    "    \n",
    "        df_ver_order = spark.read.format(\"csv\") \\\n",
    "              .option(\"header\", False) \\\n",
    "              .schema(schema_ver_origin)\\\n",
    "              .load(hdfs_tin_pts_origin)\n",
    "        print(\"Number of partitions for df_ver_order:\", df_ver_order.rdd.getNumPartitions())\n",
    "        \n",
    "    if filtra.lower() == 'no': # 'no' means we need to rank vertices to get their filtra values\n",
    "        schema_ver_origin = StructType([ \\\n",
    "            StructField(\"x\",FloatType(),True), \\\n",
    "            StructField(\"y\",FloatType(),True), \\\n",
    "            StructField(\"ele\",FloatType(),True), \\\n",
    "            StructField(\"self_index\",IntegerType(),True) \\\n",
    "          ])\n",
    "        \n",
    "        hdfs_tin_pts_origin = directory + \"/\" + tin_filename + '_pts_origin.csv'\n",
    "    \n",
    "        df_ver_origin = spark.read.format(\"csv\") \\\n",
    "              .option(\"header\", False) \\\n",
    "              .schema(schema_ver_origin)\\\n",
    "              .load(hdfs_tin_pts_origin)\n",
    "        \n",
    "        print(\"Number of partitions for df_ver_origin:\", df_ver_origin.rdd.getNumPartitions())\n",
    "        \n",
    "        # define a window for the ordering\n",
    "        # row_number() function along with partitionBy() of other column populates the row number by group\n",
    "        # Since we want to order the whole DataFrame, so we don't need the partitionBy() function\n",
    "        w = Window().orderBy(col('ele').asc())\n",
    "        df_ver_order = df_ver_origin.withColumn(\"self_order\", F.row_number().over(w) -1) # let the row number start from 0\n",
    "        print(\"Number of partitions for df_ver_order:\", df_ver_order.rdd.getNumPartitions())\n",
    "        \n",
    "    return df_ver_order"
   ]
  },
  {
   "cell_type": "code",
   "execution_count": 11,
   "id": "wrapped-thumbnail",
   "metadata": {},
   "outputs": [
    {
     "name": "stdout",
     "output_type": "stream",
     "text": [
      "Number of partitions for df_ver_order: 1\n",
      "root\n",
      " |-- x: float (nullable = true)\n",
      " |-- y: float (nullable = true)\n",
      " |-- ele: float (nullable = true)\n",
      " |-- self_index: integer (nullable = true)\n",
      " |-- self_order: integer (nullable = true)\n",
      "\n"
     ]
    }
   ],
   "source": [
    "# read vertices\n",
    "df_ver_order = read_ver_order(filtra, directory, tin_filename)\n",
    "df_ver_order.printSchema()"
   ]
  },
  {
   "cell_type": "code",
   "execution_count": 12,
   "id": "nonprofit-people",
   "metadata": {},
   "outputs": [],
   "source": [
    "# read_tri_order() is a function used to read triangles from a csv file\n",
    "def read_tri_order(filtra, directory, tin_filename):    \n",
    "    '''\n",
    "    this function has two input parameters.\n",
    "    filtra: 'yes' or 'no', yes means that the input csv file is ordered by default\n",
    "    directory: a string denoting the directory to a TIN file\n",
    "    tin_filename: a string denoting the file name of a tin without extension, e.g., 827_monviso\n",
    "    '''\n",
    "    if filtra.lower() == 'yes':\n",
    "        hdfs_tin_tri_origin = directory + \"/\" + tin_filename + '_filtra_tri_origin.csv'\n",
    "    else: # filtra.lower() == 'no'\n",
    "        hdfs_tin_tri_origin = directory + \"/\" + tin_filename + '_tri_origin.csv'\n",
    "        \n",
    "    schema_tri_origin = StructType([ \\\n",
    "        StructField(\"v1\",IntegerType(),True), \\\n",
    "        StructField(\"v2\",IntegerType(),True), \\\n",
    "        StructField(\"v3\",IntegerType(),True), \\\n",
    "        StructField(\"tri_order\",IntegerType(),True) \\\n",
    "      ])\n",
    "\n",
    "    df_tri_origin = spark.read.format(\"csv\") \\\n",
    "          .option(\"header\", False) \\\n",
    "          .schema(schema_tri_origin)\\\n",
    "          .load(hdfs_tin_tri_origin)\n",
    "    print(\"Number of partitions for df_tri_origin:\", df_tri_origin.rdd.getNumPartitions())\n",
    "        \n",
    "    return df_tri_origin"
   ]
  },
  {
   "cell_type": "code",
   "execution_count": 13,
   "id": "reliable-motivation",
   "metadata": {},
   "outputs": [
    {
     "name": "stdout",
     "output_type": "stream",
     "text": [
      "Number of partitions for df_tri_origin: 1\n",
      "root\n",
      " |-- v1: integer (nullable = true)\n",
      " |-- v2: integer (nullable = true)\n",
      " |-- v3: integer (nullable = true)\n",
      " |-- tri_order: integer (nullable = true)\n",
      "\n"
     ]
    }
   ],
   "source": [
    "# read triangles\n",
    "df_tri_origin = read_tri_order(filtra, directory, tin_filename)\n",
    "df_tri_origin.printSchema()"
   ]
  },
  {
   "cell_type": "code",
   "execution_count": 14,
   "id": "structured-transition",
   "metadata": {},
   "outputs": [],
   "source": [
    "# replace_ver() replaces the original index of each vertex with filtra value in df_tri_origin\n",
    "def replace_ver(df_ver_order, df_tri_origin):\n",
    "    '''\n",
    "    df_ver_order: a DataFrame storing sorted vertices with filtra values\n",
    "    df_tri_origin: a DataFrame storing triangles from a TIN\n",
    "    '''\n",
    "    df_tri_order_v1 = df_tri_origin.join(df_ver_order, df_tri_origin.v1 == df_ver_order.self_index, \"inner\")\n",
    "    df_tri_order_v1 = df_tri_order_v1.select(col(\"tri_order\"), col(\"v1\"), col(\"v2\"), col(\"v3\"),col(\"self_order\").alias(\"r1\"), col(\"ele\").alias(\"r1_ele\"))\n",
    "\n",
    "    df_tri_order_v2 = df_tri_order_v1.join(df_ver_order, df_tri_order_v1.v2 == df_ver_order.self_index, \"inner\")\n",
    "    df_tri_order_v2 = df_tri_order_v2.select(col(\"tri_order\"), col(\"v1\"), col(\"v2\"), col(\"v3\"), col(\"r1\"), col(\"self_order\").alias(\"r2\"), col(\"r1_ele\"), col(\"ele\").alias(\"r2_ele\"))\n",
    "\n",
    "    df_tri_order_v3 = df_tri_order_v2.join(df_ver_order, df_tri_order_v2.v3 == df_ver_order.self_index, \"inner\")\n",
    "    df_tri_order_v3 = df_tri_order_v3.select(col(\"tri_order\"), col(\"v1\"), col(\"v2\"), col(\"v3\"), col(\"r1\"), col(\"r2\"), col(\"self_order\").alias(\"r3\"), col(\"r1_ele\"), col(\"r2_ele\"), col(\"ele\").alias(\"r3_ele\"))\n",
    "\n",
    "    df_tri_order = df_tri_order_v3.select(col(\"tri_order\"), col(\"r1\"), col(\"r2\"), col(\"r3\"), col(\"r1_ele\"), col(\"r2_ele\"), col(\"r3_ele\"))\n",
    "\n",
    "    return df_tri_order"
   ]
  },
  {
   "cell_type": "code",
   "execution_count": 15,
   "id": "narrative-listening",
   "metadata": {},
   "outputs": [
    {
     "name": "stdout",
     "output_type": "stream",
     "text": [
      "root\n",
      " |-- tri_order: integer (nullable = true)\n",
      " |-- r1: integer (nullable = true)\n",
      " |-- r2: integer (nullable = true)\n",
      " |-- r3: integer (nullable = true)\n",
      " |-- r1_ele: float (nullable = true)\n",
      " |-- r2_ele: float (nullable = true)\n",
      " |-- r3_ele: float (nullable = true)\n",
      "\n"
     ]
    }
   ],
   "source": [
    "# replaces original vertex index with filtra values\n",
    "df_tri_order = replace_ver(df_ver_order, df_tri_origin)\n",
    "df_tri_order.printSchema()"
   ]
  },
  {
   "cell_type": "code",
   "execution_count": 16,
   "id": "sought-student",
   "metadata": {},
   "outputs": [
    {
     "name": "stdout",
     "output_type": "stream",
     "text": [
      "root\n",
      " |-- tri_order: integer (nullable = true)\n",
      " |-- r1: integer (nullable = true)\n",
      " |-- r2: integer (nullable = true)\n",
      " |-- r3: integer (nullable = true)\n",
      " |-- r1_ele: float (nullable = true)\n",
      " |-- r2_ele: float (nullable = true)\n",
      " |-- r3_ele: float (nullable = true)\n",
      " |-- tri: array (nullable = false)\n",
      " |    |-- element: integer (containsNull = true)\n",
      " |-- tri_ele: array (nullable = false)\n",
      " |    |-- element: float (containsNull = true)\n",
      "\n"
     ]
    },
    {
     "data": {
      "text/plain": [
       "200"
      ]
     },
     "execution_count": 16,
     "metadata": {},
     "output_type": "execute_result"
    }
   ],
   "source": [
    "# sort the extreme vertices of a triangle in ascending order, e.g., (2,5,3) -> (2,3,5)\n",
    "\n",
    "'''\n",
    "def get_tri_array(r1, r2, r3):\n",
    "# get_multi_pt_index is used to obtain the adjacent vertexes index, including the vertex itself\n",
    "# pt_list1: partial adjacent vertex indexes of join result 1\n",
    "# pt_list2: partial adjacent vertex indexes of join result 2\n",
    "    tri = [r1, r2, r3]    \n",
    "    tri.sort(reverse=True)\n",
    "    \n",
    "    return tri\n",
    "\n",
    "# convert a function to an udf and determine the return type\n",
    "# https://spark.apache.org/docs/3.1.3/api/python/reference/api/pyspark.sql.functions.udf.html\n",
    "get_tri_array_udf = udf(get_tri_array, ArrayType(IntegerType()))\n",
    "df_tri_order = df_tri_order.withColumn(\"tri\", get_tri_array_udf(df_tri_order.r1, df_tri_order.r2, df_tri_order.r3))\n",
    "'''\n",
    "\n",
    "df_tri_order = df_tri_order.withColumn(\"tri_origin\", F.array(\"r1\", \"r2\", \"r3\")).withColumn(\"tri_ele_origin\", F.array(\"r1_ele\", \"r2_ele\", \"r3_ele\"))\n",
    "df_tri_order = df_tri_order.withColumn(\"tri\", sort_array(\"tri_origin\", False)).drop(\"tri_origin\") # sort_array(\"tri\", False), False means descending order\n",
    "df_tri_order = df_tri_order.withColumn(\"tri_ele\", sort_array(\"tri_ele_origin\", False)).drop(\"tri_ele_origin\") # sort_array(\"tri\", False), False means descending order\n",
    "\n",
    "df_tri_order.printSchema()\n",
    "df_tri_order.rdd.getNumPartitions()\n",
    "#df_tri_order.show()"
   ]
  },
  {
   "cell_type": "markdown",
   "id": "approximate-hearts",
   "metadata": {},
   "source": [
    "### get VT relation"
   ]
  },
  {
   "cell_type": "code",
   "execution_count": 17,
   "id": "protecting-honor",
   "metadata": {},
   "outputs": [],
   "source": [
    "# union and group vertices and get the preliminary VT relation\n",
    "def grp_union(df_tri_order):\n",
    "    '''\n",
    "    df_tri_order: a DataFrame storing sorted extreme vertices of each triangle\n",
    "    '''\n",
    "    # groupby and collect_set\n",
    "    df_tri_group1 = df_tri_order.groupBy('r1','r1_ele').agg(collect_list('tri').alias('multi_tri'), collect_list('tri_ele').alias('multi_tri_ele'))\n",
    "    df_tri_group2 = df_tri_order.groupBy('r2','r2_ele').agg(collect_list('tri').alias('multi_tri'), collect_list('tri_ele').alias('multi_tri_ele'))\n",
    "    df_tri_group3 = df_tri_order.groupBy('r3', 'r3_ele').agg(collect_list('tri').alias('multi_tri'), collect_list('tri_ele').alias('multi_tri_ele'))\n",
    "    \n",
    "    union12 = df_tri_group1.union(df_tri_group2) # the title of union12 will be the same as df_sj_group1\n",
    "    union123 = union12.union(df_tri_group3) # the title of union123 will be the same as union12, so as df_sj_group1\n",
    "\n",
    "    union123_group = union123.groupBy('r1','r1_ele').agg(collect_list('multi_tri').alias('multi_tri_list'), collect_list('multi_tri_ele').alias('multi_tri_ele_list'))\n",
    "    \n",
    "    # print(\"the schema of union123_group:\", union123_group.printSchema())\n",
    "    return union123_group"
   ]
  },
  {
   "cell_type": "code",
   "execution_count": 18,
   "id": "possible-gentleman",
   "metadata": {},
   "outputs": [
    {
     "name": "stdout",
     "output_type": "stream",
     "text": [
      "root\n",
      " |-- r1: integer (nullable = true)\n",
      " |-- r1_ele: float (nullable = true)\n",
      " |-- multi_tri_list: array (nullable = true)\n",
      " |    |-- element: array (containsNull = true)\n",
      " |    |    |-- element: array (containsNull = true)\n",
      " |    |    |    |-- element: integer (containsNull = true)\n",
      " |-- multi_tri_ele_list: array (nullable = true)\n",
      " |    |-- element: array (containsNull = true)\n",
      " |    |    |-- element: array (containsNull = true)\n",
      " |    |    |    |-- element: float (containsNull = true)\n",
      "\n"
     ]
    }
   ],
   "source": [
    "union123_group = grp_union(df_tri_order)\n",
    "union123_group.printSchema()"
   ]
  },
  {
   "cell_type": "code",
   "execution_count": 19,
   "id": "spiritual-sterling",
   "metadata": {},
   "outputs": [
    {
     "name": "stdout",
     "output_type": "stream",
     "text": [
      "root\n",
      " |-- Ver: integer (nullable = true)\n",
      " |-- VT_filtra: array (nullable = true)\n",
      " |    |-- element: array (containsNull = true)\n",
      " |    |    |-- element: integer (containsNull = true)\n",
      " |-- VT_ele: array (nullable = true)\n",
      " |    |-- element: array (containsNull = true)\n",
      " |    |    |-- element: float (containsNull = true)\n",
      "\n",
      "number of partitions for df_VT: 200\n"
     ]
    }
   ],
   "source": [
    "# sort the triangles in the preliminary VT relation\n",
    "def get_multi_tri_order(tri_list, tri_ele_list):\n",
    "    '''\n",
    "    get_multi_tri_order is used to obtain the adjacent triangles, the results are in ascending order, but the triangle itself is in descending\n",
    "    e.g., [[3, 2, 1], [5, 3, 2], [5, 3, 1]]\n",
    "    tri_list: an array of array of array of integer\n",
    "    tri_ele_list: an array of array of array of float\n",
    "    '''\n",
    "\n",
    "    tri = []\n",
    "    tri_ele = []\n",
    "    # pt_list.append(pt_self) # if we don't calculate roughness, we don't need self vertex\n",
    "    for i in range(len(tri_list)):\n",
    "        for j in range(len(tri_list[i])):\n",
    "            # if tri_list[i][j] not in tri: # we do not need to check if it exists in tri_list, because we can prove that each one is unique\n",
    "            tri.append(tri_list[i][j]) # update() will add multiple elements to a set, while add() only add one element to a set   \n",
    "            tri_ele.append(tri_ele_list[i][j])\n",
    "    \n",
    "    tri_copy = copy.deepcopy(tri) # deep copy tri\n",
    "    tri.sort() # sort the list of array, e.g., tri=[[3, 2, 1], [5, 2, 1], [5, 3, 1]], after sorting, [[3, 2, 1], [5, 2, 1], [5, 3, 1]]\n",
    "    \n",
    "    tri_ele_sort = []\n",
    "    # sort tri_ele according to the same rule as tri\n",
    "    for i in range(len(tri)):\n",
    "        index_in_tri_origin = tri_copy.index(tri[i])\n",
    "        tri_ele_sort.append(tri_ele[index_in_tri_origin])\n",
    "    \n",
    "    return tri, tri_ele_sort\n",
    "\n",
    "# convert a function to an udf and determine the return type\n",
    "# https://spark.apache.org/docs/3.1.3/api/python/reference/api/pyspark.sql.functions.udf.html\n",
    "\n",
    "# StructType for get_multi_tri_order        \n",
    "get_multi_tri_order_schema = StructType([\n",
    "    StructField(\"multi_tri_sort\", ArrayType(ArrayType(IntegerType())),True), \n",
    "    StructField('multi_tri_ele_sort',ArrayType(ArrayType(FloatType())),True)\n",
    "])\n",
    "\n",
    "get_multi_tri_order_udf = udf(get_multi_tri_order, get_multi_tri_order_schema)\n",
    "\n",
    "df_VT = union123_group.withColumn(\"multi_tri_order\", get_multi_tri_order_udf(union123_group.multi_tri_list, union123_group.multi_tri_ele_list))\n",
    "df_VT = df_VT.select(col(\"r1\").alias(\"Ver\"), col(\"multi_tri_order.multi_tri_sort\").alias(\"VT_filtra\"), col(\"multi_tri_order.multi_tri_ele_sort\").alias(\"VT_ele\"))\n",
    "df_VT.printSchema()\n",
    "print(\"number of partitions for df_VT:\", df_VT.rdd.getNumPartitions())"
   ]
  },
  {
   "cell_type": "markdown",
   "id": "balanced-discretion",
   "metadata": {},
   "source": [
    "### obtain the lower star of each vertex"
   ]
  },
  {
   "cell_type": "code",
   "execution_count": 20,
   "id": "opposite-beaver",
   "metadata": {},
   "outputs": [
    {
     "name": "stdout",
     "output_type": "stream",
     "text": [
      "root\n",
      " |-- Ver: integer (nullable = true)\n",
      " |-- VT_filtra: array (nullable = true)\n",
      " |    |-- element: array (containsNull = true)\n",
      " |    |    |-- element: integer (containsNull = true)\n",
      " |-- LS_edge: array (nullable = true)\n",
      " |    |-- element: array (containsNull = true)\n",
      " |    |    |-- element: integer (containsNull = true)\n",
      " |-- LS_tri_filtra: array (nullable = true)\n",
      " |    |-- element: array (containsNull = true)\n",
      " |    |    |-- element: integer (containsNull = true)\n",
      " |-- LS_tri_ele: array (nullable = true)\n",
      " |    |-- element: array (containsNull = true)\n",
      " |    |    |-- element: float (containsNull = true)\n",
      "\n",
      "number of partitions for df_LS: 200\n"
     ]
    }
   ],
   "source": [
    "# obtain Lower Star\n",
    "def get_LS(Ver, VT_filtra, VT_ele):\n",
    "# get_LS is used to obtain the edges and triangles of LS in ascending order\n",
    "# VV: an array of VV relation in ascending order\n",
    "    VV = set(num for sublist in VT_filtra for num in sublist if num != Ver)\n",
    "    VV = sorted(VV)\n",
    "        \n",
    "    LS_edge = []\n",
    "    for i in range(len(VV)):\n",
    "        if VV[i] < int(Ver):\n",
    "            LS_edge.append([int(Ver),VV[i]])\n",
    "        \n",
    "    LS_tri = []\n",
    "    LS_tri_ele = []\n",
    "    \n",
    "    for i in range(len(VT_filtra)):\n",
    "        if Ver >= max(VT_filtra[i]): # Ver_ele is not the maximum vertex\n",
    "            LS_tri.append(VT_filtra[i])\n",
    "            LS_tri_ele.append(VT_ele[i])\n",
    "                \n",
    "    return LS_edge, LS_tri, LS_tri_ele\n",
    "\n",
    "# StructType for get_multi_tri_order        \n",
    "get_LS_schema = StructType([\n",
    "    StructField(\"LS_edge\", ArrayType(ArrayType(IntegerType())),True), \n",
    "    StructField(\"LS_tri_filtra\", ArrayType(ArrayType(IntegerType())),True),\n",
    "    StructField('LS_tri_ele',ArrayType(ArrayType(FloatType())),True)\n",
    "])\n",
    "\n",
    "get_LS_udf = udf(get_LS, get_LS_schema)\n",
    "\n",
    "df_LS = df_VT.withColumn(\"LS\", get_LS_udf(df_VT.Ver, df_VT.VT_filtra, df_VT.VT_ele))\n",
    "df_LS = df_LS.select(\"Ver\", \"VT_filtra\", col(\"LS.LS_edge\").alias(\"LS_edge\"), col(\"LS.LS_tri_filtra\").alias(\"LS_tri_filtra\"), col(\"LS.LS_tri_ele\").alias(\"LS_tri_ele\"))\n",
    "df_LS.printSchema()\n",
    "print(\"number of partitions for df_LS:\", df_LS.rdd.getNumPartitions())\n",
    "# df_LS_edge.show()"
   ]
  },
  {
   "cell_type": "markdown",
   "id": "cheap-hormone",
   "metadata": {},
   "source": [
    "### compute Forman Gradient"
   ]
  },
  {
   "cell_type": "code",
   "execution_count": 21,
   "id": "local-school",
   "metadata": {},
   "outputs": [],
   "source": [
    "from collections import deque"
   ]
  },
  {
   "cell_type": "code",
   "execution_count": 22,
   "id": "weird-typing",
   "metadata": {},
   "outputs": [],
   "source": [
    "# get the Forman gradient from lower stars\n",
    "def get_Forman(Ver, LS_edge, LS_filtra, LS_ele):\n",
    "    '''\n",
    "    get_Forman is used to compute Forman gradient\n",
    "    LS_edge is triangles of lower star in ascending order\n",
    "    LS_tri is triangles of lower star in ascending order\n",
    "    '''\n",
    "    # inner udf to get the number of unpaired edges for a triangle\n",
    "    def num_unpaired_edges(tri_inner, crit_cell_inner, Forman_vec_pair_VE_inner, Forman_vec_pair_ET_inner):\n",
    "        # compute the number of unpaired edges\n",
    "        edge0 = [tri_inner[0], tri_inner[1]]\n",
    "        edge1 = [tri_inner[0], tri_inner[2]]\n",
    "        \n",
    "        num_unpaired_edge = 2\n",
    "        paired_edge = []\n",
    "        for crit_inner_temp in crit_cell_inner:\n",
    "            if len(crit_inner_temp) == 2: # crit_inner_temp is a critical edge\n",
    "                paired_edge.append(crit_inner_temp)\n",
    "                \n",
    "        for pair_vec in Forman_vec_pair_VE_inner: # pair_vec is a vector, it can be (ver, edge) or (edge, tri)\n",
    "            paired_edge.append(pair_vec[1])\n",
    "            # if type(pair_vec[0]) != int and len(pair_vec[0]) == 2: # pair_vec[0] is a paired edge, like in (edge, tri)\n",
    "                # paired_edge.append(pair_vec[0])\n",
    "            # if len(pair_vec[1]) == 2: # pair_vec[1] is a paired edge, like in (ver, edge)\n",
    "                # paired_edge.append(pair_vec[1])\n",
    "        for pair_vec in Forman_vec_pair_ET_inner: # pair_vec is a vector, it can be (ver, edge) or (edge, tri)\n",
    "            paired_edge.append(pair_vec[0])\n",
    "                \n",
    "        if edge0 in paired_edge:\n",
    "            num_unpaired_edge = num_unpaired_edge - 1\n",
    "        if edge1 in paired_edge:\n",
    "            num_unpaired_edge = num_unpaired_edge - 1\n",
    "            \n",
    "        return num_unpaired_edge\n",
    "    \n",
    "    # inner udf to get the edge which is paired with a triangles\n",
    "    def pair_an_edge_from_PQzero(alpha_inner, PQzero_inner):\n",
    "    # alpha_inner is a triangle in [r0, r1, r2] format, and the vertext's elevation is in descending order\n",
    "    # PQzero_inner is a queue storing all other edges\n",
    "        alpha_e0 = [alpha_inner[0], alpha_inner[1]]\n",
    "        alpha_e1 = [alpha_inner[0], alpha_inner[2]]\n",
    "        for edge_inner in PQzero_inner:\n",
    "            if edge_inner == alpha_e0:\n",
    "                return edge_inner\n",
    "            if edge_inner == alpha_e1:\n",
    "                return edge_inner\n",
    "            \n",
    "    crit_cell = [] # crit_cell will store critical simplices\n",
    "    # Forman_vec_pair = [] # Forman_vec_pair will store all Forman gradient pairs as a vector\n",
    "    Forman_vec_pair_VE = []\n",
    "    Forman_vec_pair_ET = []\n",
    "    if (len(LS_edge)+len(LS_filtra)) == 0: # ver is a local minimum\n",
    "        crit_cell.append([Ver]) # store minimum as an array [Ver] though it has only one element\n",
    "    elif len(LS_edge) > 0:\n",
    "        Forman_vec_pair_VE.append([Ver, LS_edge[0]]) # LS_edge[0] is the minimum edge since it is in ascending order\n",
    "        \n",
    "        # define two queues, PQzero storing all other edges, PQone storing all triangles which have only one unpaired edge\n",
    "        PQzero = deque()\n",
    "        PQone = deque()\n",
    "        PQone_ele = deque()\n",
    "        for i in range(1, len(LS_edge)): # add the other edges to PQzero\n",
    "            PQzero.append(LS_edge[i])\n",
    "            \n",
    "        cell_temp_index_of_remove = []\n",
    "        index_temp = 0\n",
    "        for cell_temp in LS_filtra:\n",
    "            if num_unpaired_edges(cell_temp, crit_cell, Forman_vec_pair_VE, Forman_vec_pair_ET) == 1:\n",
    "                PQone.append(cell_temp) # storing cells with one unpaired edges, which are triangles in TIN\n",
    "                PQone_ele.append(LS_ele[index_temp])\n",
    "                # remove cell_temp from LS_filtra\n",
    "                # LS_filtra.remove(cell_temp)\n",
    "                cell_temp_index_of_remove.append(index_temp)\n",
    "            index_temp += 1\n",
    "            \n",
    "        # remove cell_temp from LS_filtra and LS_ele\n",
    "        for i in reversed(cell_temp_index_of_remove):\n",
    "            del LS_filtra[i]\n",
    "            del LS_ele[i]\n",
    "                \n",
    "        # sort PQone in ascending order, the initial queue is already sorted when creating\n",
    "        # PQone = sorted(PQone) # sort() is not supported but we can use sorted()\n",
    "        # PQone = deque(PQone) # after sorting, PQone one will be a list instead of a queue, we need to reconstruct this queue\n",
    "        while len(PQone) > 0 or len(PQzero) > 0:\n",
    "            while len(PQone) > 0:\n",
    "                # alpha = PQone.popleft() # alpha is a triangle in the PQone\n",
    "                # alpha should be a triangle with lower elevation when PQone have more than one triangle\n",
    "                if len(PQone) > 1 and abs(PQone_ele[0][1]-PQone_ele[1][1]) < 0.000001 and PQone_ele[0][2] > PQone_ele[1][2]:\n",
    "                    alpha = PQone[1] # alpha is the second triangle\n",
    "                    del PQone[1]\n",
    "                    del PQone_ele[1]\n",
    "                else:\n",
    "                    alpha = PQone.popleft() # alpha is the first triangle, which is the same as alpha=PQone[0], then del PQone[0]\n",
    "                    del PQone_ele[0]\n",
    "                \n",
    "                if num_unpaired_edges(alpha, crit_cell, Forman_vec_pair_VE, Forman_vec_pair_ET) == 0:\n",
    "                    PQzero.append(alpha)\n",
    "                else:\n",
    "                    pair_alpha = pair_an_edge_from_PQzero(alpha, PQzero) # pair_alpha is an edge, [pair_alpha, alpha] will be a new paired vector\n",
    "                    # if pair_alpha in PQzero:\n",
    "                    PQzero.remove(pair_alpha) # remove pair_alpha from PQzero\n",
    "                    # Forman_vec_pair.append([pair_alpha, alpha]) # add the [pair_alpha, alpha], which is [edge, tri]\n",
    "                    Forman_vec_pair_ET.append([pair_alpha, alpha]) # add the [pair_alpha, alpha], which is [edge, tri]\n",
    "                    \n",
    "                    beta_cell_temp_index_of_remove = []\n",
    "                    beta_index_temp = 0\n",
    "                    for cell_beta in LS_filtra: # this can be optimized\n",
    "                        if cell_beta not in PQone and num_unpaired_edges(cell_beta, crit_cell, Forman_vec_pair_VE, Forman_vec_pair_ET) == 1:\n",
    "                            PQone.append(cell_beta)\n",
    "                            PQone_ele.append(LS_ele[beta_index_temp])\n",
    "                            # remove cell_beta from LS_tri\n",
    "                            # LS_tri.remove(cell_beta)\n",
    "                            beta_cell_temp_index_of_remove.append(beta_index_temp)\n",
    "                        beta_index_temp += 1\n",
    "                    \n",
    "                    # remove cell_beta from LS_filtra and LS_ele\n",
    "                    for i in reversed(beta_cell_temp_index_of_remove):\n",
    "                        del LS_filtra[i]\n",
    "                        del LS_ele[i]\n",
    "                    \n",
    "                    PQone = sorted(PQone)\n",
    "                    PQone = deque(PQone) # after sorting, PQone one will be a list instead of a queue, we need to reconstruct this queue\n",
    "            if len(PQzero) > 0:\n",
    "                gama = PQzero.popleft() # gama is a critical simplex\n",
    "                crit_cell.append(gama)\n",
    "                \n",
    "                gama_cell_temp_index_of_remove = []\n",
    "                gama_index_temp = 0\n",
    "                for cell_gama in LS_filtra: # this can be optimized\n",
    "                    if cell_gama not in PQone and num_unpaired_edges(cell_gama, crit_cell, Forman_vec_pair_VE, Forman_vec_pair_ET) == 1:\n",
    "                        PQone.append(cell_gama)\n",
    "                        PQone_ele.append(LS_ele[gama_index_temp])\n",
    "                        # remove cell_gama from LS_tri\n",
    "                        # LS_tri.remove(cell_gama)\n",
    "                        gama_cell_temp_index_of_remove.append(gama_index_temp)\n",
    "                    gama_index_temp += 1\n",
    "                    \n",
    "                # remove cell_beta from LS_filtra and LS_ele\n",
    "                for i in reversed(gama_cell_temp_index_of_remove):\n",
    "                    del LS_filtra[i]\n",
    "                    del LS_ele[i]\n",
    "                        \n",
    "                PQone = sorted(PQone)\n",
    "                PQone = deque(PQone) # after sorting, PQone one will be a list instead of a queue, we need to reconstruct this queue\n",
    "                \n",
    "    return crit_cell, Forman_vec_pair_VE, Forman_vec_pair_ET\n",
    "\n",
    "# StructType for Crit_cell        \n",
    "add_Crit_cell_schema = StructType([\n",
    "    StructField('Crit_cell',ArrayType(IntegerType()),True)\n",
    "])\n",
    "\n",
    "# StructType for VE pairs        \n",
    "add_VE_schema = StructType([\n",
    "    StructField(\"VE_pair_V\", IntegerType(),True), \n",
    "    StructField('VE_pair_E',ArrayType(IntegerType()),True)\n",
    "])\n",
    "\n",
    "# StructType for ET pairs        \n",
    "add_multi_ET_schema = StructType([\n",
    "    StructField(\"ET_pair_E\", ArrayType(IntegerType()),True), \n",
    "    StructField('ET_pair_T',ArrayType(IntegerType()),True)\n",
    "])\n",
    " \n",
    "# the whole StructType\n",
    "get_Forman_schema = StructType([\n",
    "    StructField(\"Crit_cell\", ArrayType(ArrayType(IntegerType())), True),\n",
    "    StructField(\"VE_pair\", ArrayType(add_VE_schema), True),\n",
    "    StructField(\"ET_pair\", ArrayType(add_multi_ET_schema), True)\n",
    "])\n",
    "\n",
    "# convert a function to an udf and determine the return type\n",
    "# https://spark.apache.org/docs/3.1.3/api/python/reference/api/pyspark.sql.functions.udf.html\n",
    "get_Forman_udf = udf(get_Forman, get_Forman_schema)"
   ]
  },
  {
   "cell_type": "code",
   "execution_count": 23,
   "id": "scientific-mistake",
   "metadata": {},
   "outputs": [
    {
     "name": "stdout",
     "output_type": "stream",
     "text": [
      "root\n",
      " |-- Ver: integer (nullable = true)\n",
      " |-- VT_filtra: array (nullable = true)\n",
      " |    |-- element: array (containsNull = true)\n",
      " |    |    |-- element: integer (containsNull = true)\n",
      " |-- Forman: struct (nullable = true)\n",
      " |    |-- Crit_cell: array (nullable = true)\n",
      " |    |    |-- element: array (containsNull = true)\n",
      " |    |    |    |-- element: integer (containsNull = true)\n",
      " |    |-- VE_pair: array (nullable = true)\n",
      " |    |    |-- element: struct (containsNull = true)\n",
      " |    |    |    |-- VE_pair_V: integer (nullable = true)\n",
      " |    |    |    |-- VE_pair_E: array (nullable = true)\n",
      " |    |    |    |    |-- element: integer (containsNull = true)\n",
      " |    |-- ET_pair: array (nullable = true)\n",
      " |    |    |-- element: struct (containsNull = true)\n",
      " |    |    |    |-- ET_pair_E: array (nullable = true)\n",
      " |    |    |    |    |-- element: integer (containsNull = true)\n",
      " |    |    |    |-- ET_pair_T: array (nullable = true)\n",
      " |    |    |    |    |-- element: integer (containsNull = true)\n",
      "\n",
      "The number of partitions for df_Forman: 200\n"
     ]
    }
   ],
   "source": [
    "df_Forman = df_LS.withColumn(\"LS_Forman\", get_Forman_udf(df_LS.Ver, df_LS.LS_edge, df_LS.LS_tri_filtra, df_LS.LS_tri_ele))\n",
    "df_Forman = df_Forman.select(col(\"Ver\"), col(\"VT_filtra\"), col(\"LS_Forman\").alias(\"Forman\"))\n",
    "df_Forman.printSchema()\n",
    "print(\"The number of partitions for df_Forman:\", df_Forman.rdd.getNumPartitions())\n",
    "# df_Forman.show()"
   ]
  },
  {
   "cell_type": "markdown",
   "id": "agreed-indiana",
   "metadata": {},
   "source": [
    "### get Forman gradient"
   ]
  },
  {
   "cell_type": "code",
   "execution_count": 24,
   "id": "collected-snowboard",
   "metadata": {},
   "outputs": [],
   "source": [
    "# file_df_Forman = directory + '/' + tin_filename + '_sortForman' + '.parquet'\n",
    "# df_Forman = spark.read.parquet(file_df_Forman)\n",
    "# df_Forman.printSchema()"
   ]
  },
  {
   "cell_type": "markdown",
   "id": "powerful-making",
   "metadata": {},
   "source": [
    "### Extract critical vertices, edeges, and triangles"
   ]
  },
  {
   "cell_type": "code",
   "execution_count": 25,
   "id": "editorial-constitution",
   "metadata": {},
   "outputs": [
    {
     "name": "stdout",
     "output_type": "stream",
     "text": [
      "number of partitions for df_crit: 200\n",
      "root\n",
      " |-- Ver: integer (nullable = true)\n",
      " |-- Critical: array (nullable = true)\n",
      " |    |-- element: array (containsNull = true)\n",
      " |    |    |-- element: integer (containsNull = true)\n",
      "\n"
     ]
    }
   ],
   "source": [
    "df_crit = df_Forman.select(\"Ver\", col(\"Forman.Crit_cell\").alias(\"Critical\"))\n",
    "print(\"number of partitions for df_crit:\", df_crit.rdd.getNumPartitions())\n",
    "df_crit.printSchema()\n",
    "# df_crit.show()"
   ]
  },
  {
   "cell_type": "code",
   "execution_count": 26,
   "id": "potential-cement",
   "metadata": {},
   "outputs": [
    {
     "name": "stdout",
     "output_type": "stream",
     "text": [
      "number of partitions for df_crit_VET: 200\n",
      "root\n",
      " |-- Ver: integer (nullable = true)\n",
      " |-- Critical: array (nullable = true)\n",
      " |    |-- element: array (containsNull = true)\n",
      " |    |    |-- element: integer (containsNull = true)\n",
      " |-- crit_cell: struct (nullable = true)\n",
      " |    |-- crit_ver: integer (nullable = true)\n",
      " |    |-- crit_edge: array (nullable = true)\n",
      " |    |    |-- element: array (containsNull = true)\n",
      " |    |    |    |-- element: integer (containsNull = true)\n",
      " |    |-- crit_tri: array (nullable = true)\n",
      " |    |    |-- element: array (containsNull = true)\n",
      " |    |    |    |-- element: integer (containsNull = true)\n",
      "\n"
     ]
    }
   ],
   "source": [
    "# split the Critical column to obtain the critical vertices, edges, and triangles\n",
    "def get_crit_VET(crit_cell):\n",
    "    if len(crit_cell) < 1: # crit_cell is empty, there are no critical simplices within this lower star\n",
    "        return\n",
    "    else:\n",
    "        # initialize the critical vertices, critical edges, and critical triangles\n",
    "        crit_ver = None\n",
    "        crit_edge = []\n",
    "        crit_tri = []\n",
    "        for icrit_cell_temp in crit_cell:\n",
    "            if len(icrit_cell_temp) == 1: # icrit_cell_temp stores a critical vertex\n",
    "                crit_ver = icrit_cell_temp[0]\n",
    "            if len(icrit_cell_temp) == 2: # icrit_cell_temp stores critical edges\n",
    "                crit_edge.append(icrit_cell_temp)\n",
    "            if len(icrit_cell_temp) == 3: # icrit_cell_temp stores critical triangles\n",
    "                crit_tri.append(icrit_cell_temp)\n",
    "        if len(crit_edge) == 0:\n",
    "            crit_edge = None\n",
    "        if len(crit_tri) == 0:\n",
    "            crit_tri = None\n",
    "        return crit_ver, crit_edge, crit_tri\n",
    "        \n",
    "# the whole StructType\n",
    "get_crit_VET_schema = StructType([\n",
    "    StructField(\"crit_ver\", IntegerType(), True),\n",
    "    StructField(\"crit_edge\", ArrayType(ArrayType(IntegerType())), True),\n",
    "    StructField(\"crit_tri\", ArrayType(ArrayType(IntegerType())), True)\n",
    "])\n",
    "\n",
    "# convert a function to an udf and determine the return type\n",
    "# https://spark.apache.org/docs/3.1.3/api/python/reference/api/pyspark.sql.functions.udf.html\n",
    "get_crit_VET_udf = udf(get_crit_VET, get_crit_VET_schema)\n",
    "\n",
    "df_crit_VET = df_crit.withColumn(\"crit_cell\", get_crit_VET_udf(df_crit.Critical))\n",
    "print(\"number of partitions for df_crit_VET:\", df_crit_VET.rdd.getNumPartitions())\n",
    "df_crit_VET.printSchema()\n",
    "# df_crit_VET.show()"
   ]
  },
  {
   "cell_type": "code",
   "execution_count": 27,
   "id": "analyzed-young",
   "metadata": {},
   "outputs": [
    {
     "name": "stdout",
     "output_type": "stream",
     "text": [
      "root\n",
      " |-- Ver: integer (nullable = true)\n",
      " |-- Min_ver: integer (nullable = true)\n",
      "\n",
      "number of partitions for df_crit_V: 200\n"
     ]
    }
   ],
   "source": [
    "# to get critical vertices\n",
    "df_crit_V = df_crit_VET.select(col(\"Ver\"), col(\"crit_cell.crit_ver\").alias(\"Min_ver\")).na.drop()\n",
    "df_crit_V.printSchema()\n",
    "print(\"number of partitions for df_crit_V:\", df_crit_V.rdd.getNumPartitions())\n",
    "# df_crit_V.show()"
   ]
  },
  {
   "cell_type": "code",
   "execution_count": 28,
   "id": "alpha-brother",
   "metadata": {},
   "outputs": [
    {
     "name": "stdout",
     "output_type": "stream",
     "text": [
      "root\n",
      " |-- Ver: integer (nullable = true)\n",
      " |-- Saddle_edge: array (nullable = true)\n",
      " |    |-- element: integer (containsNull = true)\n",
      "\n",
      "number of partitions for df_crit_E: 200\n"
     ]
    }
   ],
   "source": [
    "# to get critical edges\n",
    "df_crit_E_init = df_crit_VET.select(col(\"Ver\"), col(\"crit_cell.crit_edge\").alias(\"Saddle_edge_init\"))\n",
    "\n",
    "# there may be multiple saddles inside one lower star\n",
    "df_crit_E = df_crit_E_init.select(col(\"Ver\"), explode(\"Saddle_edge_init\").alias(\"Saddle_edge\"))\n",
    "df_crit_E.printSchema()\n",
    "print(\"number of partitions for df_crit_E:\", df_crit_E.rdd.getNumPartitions())\n",
    "# df_crit_E.show()"
   ]
  },
  {
   "cell_type": "code",
   "execution_count": 29,
   "id": "hungry-simon",
   "metadata": {},
   "outputs": [
    {
     "name": "stdout",
     "output_type": "stream",
     "text": [
      "root\n",
      " |-- Ver: integer (nullable = true)\n",
      " |-- Max_tri: array (nullable = true)\n",
      " |    |-- element: integer (containsNull = true)\n",
      "\n",
      "number of partitions for df_crit_T: 200\n"
     ]
    }
   ],
   "source": [
    "# to get critical triangles\n",
    "df_crit_T_init = df_crit_VET.select(col(\"Ver\"), col(\"crit_cell.crit_tri\").alias(\"Max_tri_init\")).na.drop()\n",
    "\n",
    "# there could be multiple critical triangles within one lower star\n",
    "df_crit_T = df_crit_T_init.select(col(\"Ver\"), explode(\"Max_tri_init\").alias(\"Max_tri\")).na.drop()\n",
    "df_crit_T.printSchema()\n",
    "print(\"number of partitions for df_crit_T:\", df_crit_T.rdd.getNumPartitions())\n",
    "# df_crit_T.show()"
   ]
  },
  {
   "cell_type": "markdown",
   "id": "variable-security",
   "metadata": {},
   "source": [
    "# Methods to build Graph_ET"
   ]
  },
  {
   "cell_type": "markdown",
   "id": "solved-graphics",
   "metadata": {},
   "source": [
    "### prepare nodes of Graph ET"
   ]
  },
  {
   "cell_type": "code",
   "execution_count": 103,
   "id": "earlier-supply",
   "metadata": {},
   "outputs": [
    {
     "name": "stdout",
     "output_type": "stream",
     "text": [
      "root\n",
      " |-- tri_order: integer (nullable = true)\n",
      " |-- tri: array (nullable = false)\n",
      " |    |-- element: integer (containsNull = true)\n",
      "\n"
     ]
    }
   ],
   "source": [
    "# all triangles are nodes of graph V2\n",
    "df_graph_V2_node = df_tri_order.select(col(\"tri_order\"), col(\"tri\"))\n",
    "df_graph_V2_node.printSchema()\n",
    "#df_graph_V2_node.show()"
   ]
  },
  {
   "cell_type": "code",
   "execution_count": 31,
   "id": "ahead-compromise",
   "metadata": {},
   "outputs": [
    {
     "name": "stdout",
     "output_type": "stream",
     "text": [
      "root\n",
      " |-- tri_order: integer (nullable = true)\n",
      " |-- tri: array (nullable = true)\n",
      " |    |-- element: integer (containsNull = true)\n",
      "\n"
     ]
    }
   ],
   "source": [
    "# add a special triangle [-1, -1, -1] as node -1; this is useful to deal with boundary elements\n",
    "# e.g., for a boundary edge, it has only one coboundary triangle; to guarantee a consistent encoding, each edge has two coboundary triangels, the other coboundary triangle for a boundary edge is [-1,-1,-1]\n",
    "# columns_special = ['tri', 'V2_node']\n",
    "value_special = [(-1, [-1, -1, -1])]\n",
    "schema_special = StructType([\n",
    "    StructField('tri_order', IntegerType(),True),\n",
    "    StructField(\"tri\", ArrayType(IntegerType()),True)    \n",
    "])\n",
    "df_special_V2_node = spark.createDataFrame(value_special, schema_special)\n",
    "df_special_V2_node.printSchema()\n",
    "#df_special_V2_node.show()"
   ]
  },
  {
   "cell_type": "markdown",
   "id": "assumed-judges",
   "metadata": {},
   "source": [
    "##### nodes of Graph_ET"
   ]
  },
  {
   "cell_type": "code",
   "execution_count": 58,
   "id": "chinese-fairy",
   "metadata": {},
   "outputs": [
    {
     "name": "stdout",
     "output_type": "stream",
     "text": [
      "root\n",
      " |-- id: integer (nullable = true)\n",
      " |-- tri: array (nullable = true)\n",
      " |    |-- element: integer (containsNull = true)\n",
      "\n"
     ]
    }
   ],
   "source": [
    "df_graph_V2_node_final = df_graph_V2_node.union(df_special_V2_node)\n",
    "df_graph_V2_node_final = df_graph_V2_node_final.select(col(\"tri_order\").alias(\"id\"), col(\"tri\"))\n",
    "df_graph_V2_node_final.printSchema()\n",
    "#df_graph_V2_node_final.show()"
   ]
  },
  {
   "cell_type": "markdown",
   "id": "clinical-thermal",
   "metadata": {},
   "source": [
    "### prepare arcs of Graph_ET"
   ]
  },
  {
   "cell_type": "code",
   "execution_count": 33,
   "id": "external-monday",
   "metadata": {},
   "outputs": [
    {
     "name": "stdout",
     "output_type": "stream",
     "text": [
      "root\n",
      " |-- Ver: integer (nullable = true)\n",
      " |-- VT_filtra: array (nullable = true)\n",
      " |    |-- element: array (containsNull = true)\n",
      " |    |    |-- element: integer (containsNull = true)\n",
      " |-- ET_pair: array (nullable = true)\n",
      " |    |-- element: struct (containsNull = true)\n",
      " |    |    |-- ET_pair_E: array (nullable = true)\n",
      " |    |    |    |-- element: integer (containsNull = true)\n",
      " |    |    |-- ET_pair_T: array (nullable = true)\n",
      " |    |    |    |-- element: integer (containsNull = true)\n",
      "\n"
     ]
    }
   ],
   "source": [
    "# Method: firstly extract df_Forman_ET_pair from df_Forman\n",
    "df_Forman_ET_pair = df_Forman.select(col(\"Ver\"), col(\"VT_filtra\"), col(\"Forman.ET_pair\").alias(\"ET_pair\"))\n",
    "df_Forman_ET_pair.printSchema()\n",
    "# df_Forman_ET_pair.show()"
   ]
  },
  {
   "cell_type": "code",
   "execution_count": 34,
   "id": "basic-quest",
   "metadata": {},
   "outputs": [
    {
     "name": "stdout",
     "output_type": "stream",
     "text": [
      "root\n",
      " |-- Ver: integer (nullable = true)\n",
      " |-- ET_pair_inTri: array (nullable = true)\n",
      " |    |-- element: struct (containsNull = true)\n",
      " |    |    |-- ET_pair_co_t: array (nullable = true)\n",
      " |    |    |    |-- element: integer (containsNull = true)\n",
      " |    |    |-- ET_pair_t: array (nullable = true)\n",
      " |    |    |    |-- element: integer (containsNull = true)\n",
      "\n"
     ]
    }
   ],
   "source": [
    "# retrieve co-boundary triangles (ET relation)\n",
    "def get_co_tri(VT, ET_pair):\n",
    "    if len(ET_pair) > 0:\n",
    "        co_tri_pair = []\n",
    "        num_ET_pair = len(ET_pair) # obtain the number of ET_pairs\n",
    "        def Co_tri(e,t,vt):\n",
    "            # e is sorted\n",
    "            for t_temp in vt:\n",
    "                # e0 = sorted([vt[0], vt[1]], reverse=True) # sort the edge in descending order\n",
    "                e0 = [t_temp[0], t_temp[1]] # e0, e1, and e2 are in descending order by default\n",
    "                e1 = [t_temp[0], t_temp[2]]\n",
    "                e2 = [t_temp[1], t_temp[2]]\n",
    "                t = [int(t[0]), int(t[1]), int(t[2])]\n",
    "                t_temp = [int(t_temp[0]), int(t_temp[1]), int(t_temp[2])]\n",
    "                # if e==e0 or e==e1 or e==e2 and t != t_temp:\n",
    "                if e==e0 or e==e1 or e==e2:\n",
    "                    if t != t_temp:\n",
    "                        return t_temp # t_temp is a coboundary triangle of t in vt\n",
    "                \n",
    "        for i in range(num_ET_pair):\n",
    "            ET_pair_e = ET_pair[i]['ET_pair_E'] # the i-th ET_pair\n",
    "            ET_pair_t = ET_pair[i]['ET_pair_T']\n",
    "            ET_pair_co_t = Co_tri(ET_pair_e, ET_pair_t, VT)\n",
    "            if ET_pair_co_t is None: # len(ET_pair_co_t) is empty, boundary triangles\n",
    "                ET_pair_co_t = [-1, -1, -1]\n",
    "            co_tri_pair.append([ET_pair_co_t, ET_pair_t])\n",
    "            \n",
    "        return co_tri_pair\n",
    "    \n",
    "# the whole StructType\n",
    "get_co_tri_schema = StructType([\n",
    "    StructField(\"ET_pair_co_t\", ArrayType(IntegerType()), True),\n",
    "    StructField(\"ET_pair_t\", ArrayType(IntegerType()), True)\n",
    "])\n",
    "\n",
    "# convert a function to an udf and determine the return type\n",
    "# https://spark.apache.org/docs/3.1.3/api/python/reference/api/pyspark.sql.functions.udf.html\n",
    "get_co_tri_udf = udf(get_co_tri, ArrayType(get_co_tri_schema))\n",
    "\n",
    "df_Forman_V2_edge = df_Forman_ET_pair.withColumn(\"ET_pair_inTri\", get_co_tri_udf(df_Forman_ET_pair.VT_filtra, df_Forman_ET_pair.ET_pair))\n",
    "df_Forman_V2_edge = df_Forman_V2_edge.select(col(\"Ver\"), col(\"ET_pair_inTri\"))\n",
    "df_Forman_V2_edge.printSchema()\n",
    "# df_Forman_V2_edge.show()"
   ]
  },
  {
   "cell_type": "markdown",
   "id": "furnished-spain",
   "metadata": {},
   "source": [
    "##### construct Graph_ET reversely, set src nodes as dst nodes, and dst nodes as src nodes"
   ]
  },
  {
   "cell_type": "code",
   "execution_count": 35,
   "id": "purple-design",
   "metadata": {},
   "outputs": [
    {
     "name": "stdout",
     "output_type": "stream",
     "text": [
      "root\n",
      " |-- arc_dst: array (nullable = true)\n",
      " |    |-- element: integer (containsNull = true)\n",
      " |-- arc_src: array (nullable = true)\n",
      " |    |-- element: integer (containsNull = true)\n",
      "\n"
     ]
    }
   ],
   "source": [
    "# explode df_Forman_V2_edge\n",
    "df_Forman_V2_edge_split = df_Forman_V2_edge.select(explode(df_Forman_V2_edge.ET_pair_inTri).alias(\"ET_pair_src_dst\"))\n",
    "\n",
    "df_Forman_V2_edge_split = df_Forman_V2_edge_split.select(col(\"ET_pair_src_dst.ET_pair_co_t\").alias(\"arc_dst\"), col(\"ET_pair_src_dst.ET_pair_t\").alias(\"arc_src\")).na.drop()\n",
    "df_Forman_V2_edge_split.printSchema()\n",
    "# df_Forman_V2_edge_split.show()"
   ]
  },
  {
   "cell_type": "code",
   "execution_count": 36,
   "id": "controversial-blackberry",
   "metadata": {},
   "outputs": [
    {
     "name": "stdout",
     "output_type": "stream",
     "text": [
      "root\n",
      " |-- arc_dst: array (nullable = true)\n",
      " |    |-- element: integer (containsNull = true)\n",
      " |-- src: integer (nullable = true)\n",
      "\n"
     ]
    }
   ],
   "source": [
    "# join two DataFrames by df_Forman_V2_edge_split.arc_src == df_Forman_V2_edge_split.arc_des\n",
    "# https://sparkbyexamples.com/pyspark/pyspark-join-explained-with-examples/\n",
    "df_Forman_V2_edge_split_src = df_Forman_V2_edge_split.join(df_graph_V2_node, df_Forman_V2_edge_split.arc_src == df_graph_V2_node.tri, \"left\")\n",
    "df_Forman_V2_edge_split_src = df_Forman_V2_edge_split_src.select(col(\"arc_dst\"), col(\"tri_order\").alias(\"src\"))\n",
    "df_Forman_V2_edge_split_src.printSchema()\n",
    "#df_Forman_V2_edge_split_src.show()"
   ]
  },
  {
   "cell_type": "code",
   "execution_count": 37,
   "id": "otherwise-standing",
   "metadata": {},
   "outputs": [],
   "source": [
    "# join two DataFrames by df_Forman_V2_edge_split.arc_src == df_Forman_V2_edge_split.arc_des\n",
    "# https://sparkbyexamples.com/pyspark/pyspark-join-explained-with-examples/\n",
    "df_Forman_V2_edge_split_dst = df_Forman_V2_edge_split_src.join(df_graph_V2_node, df_Forman_V2_edge_split_src.arc_dst == df_graph_V2_node.tri, \"left\")\n",
    "df_Forman_V2_edge_split_dst = df_Forman_V2_edge_split_dst.select(col(\"src\"), col(\"tri_order\").alias(\"dst\"))\n",
    "# df_Forman_V2_edge_split_dst.printSchema()"
   ]
  },
  {
   "cell_type": "markdown",
   "id": "fewer-switzerland",
   "metadata": {},
   "source": [
    "##### arcs of Graph_ET"
   ]
  },
  {
   "cell_type": "code",
   "execution_count": 38,
   "id": "italian-maple",
   "metadata": {},
   "outputs": [
    {
     "name": "stdout",
     "output_type": "stream",
     "text": [
      "root\n",
      " |-- src: integer (nullable = true)\n",
      " |-- dst: integer (nullable = true)\n",
      "\n"
     ]
    }
   ],
   "source": [
    "df_graph_V2_edge_final = df_Forman_V2_edge_split_dst\n",
    "df_graph_V2_edge_final.printSchema()\n",
    "# df_graph_V2_edge_final.show()"
   ]
  },
  {
   "cell_type": "markdown",
   "id": "chief-headline",
   "metadata": {},
   "source": [
    "### Construct a Graph_ET"
   ]
  },
  {
   "cell_type": "code",
   "execution_count": 59,
   "id": "limiting-pocket",
   "metadata": {},
   "outputs": [
    {
     "name": "stdout",
     "output_type": "stream",
     "text": [
      "type of graph_V2: <class 'graphframes.graphframe.GraphFrame'>\n"
     ]
    }
   ],
   "source": [
    "graph_ET = GraphFrame(df_graph_V2_node_final, df_graph_V2_edge_final)\n",
    "\n",
    "print(\"type of graph_V2:\", type(graph_ET))"
   ]
  },
  {
   "cell_type": "code",
   "execution_count": 60,
   "id": "broadband-independence",
   "metadata": {},
   "outputs": [],
   "source": [
    "# set a checkpoint directory to improve performance\n",
    "# Checkpointing regularly helps recover from failures, clean shuffle files, shorten the\n",
    "# lineage of the computation graph, and reduce the complexity of plan optimization.\n",
    "\n",
    "spark.sparkContext.setCheckpointDir('checkpoints')"
   ]
  },
  {
   "cell_type": "markdown",
   "id": "optical-rhythm",
   "metadata": {},
   "source": [
    "# Compute influence regions of maxima, which are the connected components of Graph_ET"
   ]
  },
  {
   "cell_type": "code",
   "execution_count": 61,
   "id": "infinite-stuart",
   "metadata": {},
   "outputs": [
    {
     "name": "stdout",
     "output_type": "stream",
     "text": [
      "root\n",
      " |-- id: integer (nullable = true)\n",
      " |-- tri: array (nullable = true)\n",
      " |    |-- element: integer (containsNull = true)\n",
      " |-- component: long (nullable = true)\n",
      "\n",
      "time cost of connected components: 25.50667428970337\n"
     ]
    }
   ],
   "source": [
    "t_con_0 = time.time()\n",
    "# result_con consists of two columns, vertex id, component\n",
    "result_con_ET = graph_ET.connectedComponents()\n",
    "result_con_ET.printSchema()\n",
    "\n",
    "t_con_1 = time.time()\n",
    "t_con = t_con_1 - t_con_0\n",
    "print(\"time cost of connected components:\",t_con)"
   ]
  },
  {
   "cell_type": "markdown",
   "id": "excessive-bhutan",
   "metadata": {},
   "source": [
    "##### 1) left join result_con with saddles tri to identify the component that each saddles tri belongs to"
   ]
  },
  {
   "cell_type": "code",
   "execution_count": 62,
   "id": "brazilian-launch",
   "metadata": {},
   "outputs": [
    {
     "name": "stdout",
     "output_type": "stream",
     "text": [
      "root\n",
      " |-- Ver: integer (nullable = true)\n",
      " |-- Saddle_edge: array (nullable = true)\n",
      " |    |-- element: integer (containsNull = true)\n",
      " |-- VT_filtra: array (nullable = true)\n",
      " |    |-- element: array (containsNull = true)\n",
      " |    |    |-- element: integer (containsNull = true)\n",
      "\n"
     ]
    }
   ],
   "source": [
    "# join two DataFrames to obatin VE relation\n",
    "# https://sparkbyexamples.com/pyspark/pyspark-join-explained-with-examples/\n",
    "df_crit_E_VT = df_crit_E.join(df_VT, df_crit_E.Ver == df_VT.Ver, \"left\")\n",
    "df_crit_E_VT = df_crit_E_VT.select(df_crit_E.Ver, \"Saddle_edge\", \"VT_filtra\")\n",
    "df_crit_E_VT.printSchema()\n",
    "# df_crit_E_VT.show()"
   ]
  },
  {
   "cell_type": "code",
   "execution_count": 63,
   "id": "attempted-chile",
   "metadata": {},
   "outputs": [
    {
     "name": "stdout",
     "output_type": "stream",
     "text": [
      "root\n",
      " |-- saddle_edge_Tri: array (nullable = true)\n",
      " |    |-- element: array (containsNull = true)\n",
      " |    |    |-- element: integer (containsNull = true)\n",
      "\n"
     ]
    }
   ],
   "source": [
    "# retrieve co-boundary triangles (ET relation)\n",
    "def get_saddle_edge_tri(Saddle_edge, VT):\n",
    "    if len(VT) > 0:\n",
    "        e = Saddle_edge\n",
    "        tri_12 = []\n",
    "        num_VT = len(VT) # obtain the number of ET_pairs\n",
    "        for t_temp in VT:\n",
    "            e0 = [t_temp[0], t_temp[1]] # e0, e1, and e2 are in descending order by default\n",
    "            e1 = [t_temp[0], t_temp[2]]\n",
    "            e2 = [t_temp[1], t_temp[2]]\n",
    "            if e==e0 or e==e1 or e==e2:\n",
    "                tri_12.append(t_temp)\n",
    "            # if len(tri_12) == 2: # Maybe this triangle is at the boundary, so it has only one corresponding triangle in VT\n",
    "                # break\n",
    "        '''\n",
    "        if len(tri_12) == 1:\n",
    "            t_special = [-1,-1,-1]\n",
    "            tri_12.append(t_special)\n",
    "        '''\n",
    "            \n",
    "        return tri_12\n",
    "    \n",
    "# the whole StructType\n",
    "get_saddle_edge_tri_schema = StructType([\n",
    "    StructField(\"Saddle_edge_t1\", ArrayType(IntegerType()), True),\n",
    "    StructField(\"Saddle_edge_t2\", ArrayType(IntegerType()), True)\n",
    "])\n",
    "\n",
    "# convert a function to an udf and determine the return type\n",
    "# https://spark.apache.org/docs/3.1.3/api/python/reference/api/pyspark.sql.functions.udf.html\n",
    "get_saddle_edge_tri_udf = udf(get_saddle_edge_tri, ArrayType(ArrayType(IntegerType())))\n",
    "\n",
    "df_crit_E_tri = df_crit_E_VT.withColumn(\"saddle_edge_Tri\", get_saddle_edge_tri_udf(df_crit_E_VT.Saddle_edge, df_crit_E_VT.VT_filtra))\n",
    "df_crit_E_tri = df_crit_E_tri.select(col(\"saddle_edge_Tri\"))\n",
    "df_crit_E_tri.printSchema()\n",
    "# df_crit_E_tri.show()"
   ]
  },
  {
   "cell_type": "code",
   "execution_count": 64,
   "id": "guided-first",
   "metadata": {},
   "outputs": [
    {
     "name": "stdout",
     "output_type": "stream",
     "text": [
      "root\n",
      " |-- saddle_edge_Tri_split: array (nullable = true)\n",
      " |    |-- element: integer (containsNull = true)\n",
      "\n"
     ]
    }
   ],
   "source": [
    "# obtain the saddle tri\n",
    "df_crit_E2tri = df_crit_E_tri.select(explode(\"saddle_edge_Tri\").alias(\"saddle_edge_Tri_split\"))\n",
    "# some nodes may belong to multiple saddles, we need to remove them\n",
    "df_crit_E2tri = df_crit_E2tri.distinct()\n",
    "df_crit_E2tri.printSchema()"
   ]
  },
  {
   "cell_type": "code",
   "execution_count": 65,
   "id": "asian-saturn",
   "metadata": {},
   "outputs": [
    {
     "name": "stdout",
     "output_type": "stream",
     "text": [
      "root\n",
      " |-- saddle_edge_Tri_split_id: integer (nullable = true)\n",
      "\n"
     ]
    }
   ],
   "source": [
    "# left join df_crit_E2tri with df_graph_V2_node to obtain corresponding id of tri\n",
    "df_crit_E2tri = df_crit_E2tri.join(df_graph_V2_node, df_crit_E2tri.saddle_edge_Tri_split == df_graph_V2_node.tri, \"left\")\n",
    "df_crit_E2tri = df_crit_E2tri.select(col('tri_order').alias('saddle_edge_Tri_split_id'))\n",
    "df_crit_E2tri.printSchema()"
   ]
  },
  {
   "cell_type": "code",
   "execution_count": 66,
   "id": "medieval-edwards",
   "metadata": {},
   "outputs": [
    {
     "name": "stdout",
     "output_type": "stream",
     "text": [
      "number of partitions for result_con_saddle: 200\n",
      "root\n",
      " |-- id: integer (nullable = true)\n",
      " |-- tri: array (nullable = true)\n",
      " |    |-- element: integer (containsNull = true)\n",
      " |-- component: long (nullable = true)\n",
      " |-- saddle_edge_Tri_split_id: integer (nullable = true)\n",
      "\n"
     ]
    }
   ],
   "source": [
    "# identify the saddle tri that each component have\n",
    "result_con_saddle_ET = result_con_ET.join(df_crit_E2tri,result_con_ET.id==df_crit_E2tri.saddle_edge_Tri_split_id, \"inner\")\n",
    "\n",
    "print(\"number of partitions for result_con_saddle:\", result_con_saddle_ET.rdd.getNumPartitions())\n",
    "result_con_saddle_ET.printSchema()\n",
    "# result_con_saddle.show(30)"
   ]
  },
  {
   "cell_type": "code",
   "execution_count": 67,
   "id": "younger-parcel",
   "metadata": {},
   "outputs": [
    {
     "name": "stdout",
     "output_type": "stream",
     "text": [
      "root\n",
      " |-- component: long (nullable = true)\n",
      " |-- multi_SdlTris: array (nullable = true)\n",
      " |    |-- element: integer (containsNull = true)\n",
      "\n"
     ]
    }
   ],
   "source": [
    "# obtain all saddle tris for each connected component\n",
    "unique_SdlTris_per_con_ET = result_con_saddle_ET.groupBy('component').agg(collect_list('id').alias('multi_SdlTris'))\n",
    "unique_SdlTris_per_con_ET.printSchema()"
   ]
  },
  {
   "cell_type": "code",
   "execution_count": 75,
   "id": "abstract-warrior",
   "metadata": {},
   "outputs": [
    {
     "name": "stdout",
     "output_type": "stream",
     "text": [
      "root\n",
      " |-- Ver: integer (nullable = true)\n",
      " |-- Max_tri: array (nullable = true)\n",
      " |    |-- element: integer (containsNull = true)\n",
      " |-- id: integer (nullable = true)\n",
      " |-- tri: array (nullable = true)\n",
      " |    |-- element: integer (containsNull = true)\n",
      " |-- component: long (nullable = true)\n",
      "\n"
     ]
    }
   ],
   "source": [
    "df_crit_T_con = df_crit_T.join(result_con_ET, df_crit_T.Max_tri==result_con_ET.tri, \"left\")\n",
    "# df_crit_T_con = df_crit_T_con.select(\"component\", \"Max_tri\")\n",
    "df_crit_T_con.printSchema()"
   ]
  },
  {
   "cell_type": "code",
   "execution_count": 76,
   "id": "sublime-jacob",
   "metadata": {},
   "outputs": [],
   "source": [
    "df_crit_T_con_col = df_crit_T_con.collect()"
   ]
  },
  {
   "cell_type": "code",
   "execution_count": 77,
   "id": "relative-introduction",
   "metadata": {},
   "outputs": [
    {
     "data": {
      "text/plain": [
       "[Row(Ver=624, Max_tri=[624, 620, 607], id=798, tri=[624, 620, 607], component=400)]"
      ]
     },
     "execution_count": 77,
     "metadata": {},
     "output_type": "execute_result"
    }
   ],
   "source": [
    "df_crit_T_con_col"
   ]
  },
  {
   "cell_type": "markdown",
   "id": "intimate-nancy",
   "metadata": {},
   "source": [
    "##### 2) left join df_graph_V2_edge_final with result_con to identify the connected component that each arc belongs to"
   ]
  },
  {
   "cell_type": "code",
   "execution_count": 78,
   "id": "appreciated-morris",
   "metadata": {},
   "outputs": [
    {
     "name": "stdout",
     "output_type": "stream",
     "text": [
      "root\n",
      " |-- src: integer (nullable = true)\n",
      " |-- dst: integer (nullable = true)\n",
      " |-- tri: array (nullable = true)\n",
      " |    |-- element: integer (containsNull = true)\n",
      " |-- component: long (nullable = true)\n",
      "\n"
     ]
    }
   ],
   "source": [
    "# left join df_graph_V1_arc with result_con to identify which component that each arc belongs to\n",
    "df_G_V2_arc_component = df_graph_V2_edge_final.join(result_con_ET,df_graph_V2_edge_final.src==result_con_ET.id, \"left\").drop('id')\n",
    "df_G_V2_arc_component.printSchema()"
   ]
  },
  {
   "cell_type": "markdown",
   "id": "violent-wagner",
   "metadata": {},
   "source": [
    "##### 3) store each component in the same row of a DataFrame"
   ]
  },
  {
   "cell_type": "code",
   "execution_count": 79,
   "id": "loving-effectiveness",
   "metadata": {},
   "outputs": [
    {
     "name": "stdout",
     "output_type": "stream",
     "text": [
      "root\n",
      " |-- component: long (nullable = true)\n",
      " |-- multi_SdlTris: array (nullable = true)\n",
      " |    |-- element: integer (containsNull = true)\n",
      " |-- subgraphs: array (nullable = true)\n",
      " |    |-- element: map (containsNull = true)\n",
      " |    |    |-- key: integer\n",
      " |    |    |-- value: integer (valueContainsNull = true)\n",
      "\n"
     ]
    }
   ],
   "source": [
    "# convert each arc to a dictionary\n",
    "df_G_V2_arc_component_dict = df_G_V2_arc_component.withColumn(\"arcs\", create_map(col('src'), col('dst'))).drop('src','dst')\n",
    "\n",
    "# combine dictionaries belonging to an identical component to one list\n",
    "df_G_V2_arc_component_dict_gpy = df_G_V2_arc_component_dict.groupBy('component').agg(collect_list('arcs').alias('subgraphs'))\n",
    "\n",
    "# left join df_G_V1_arc_component_dict_gpy with unique_SdlPts_per_con to obtain SdlPts belonging to each component\n",
    "df_G_V2_arc_component_dict_gpy = df_G_V2_arc_component_dict_gpy.join(unique_SdlTris_per_con_ET,df_G_V2_arc_component_dict_gpy.component==unique_SdlTris_per_con_ET.component, \"left\").select(df_G_V2_arc_component_dict_gpy.component, 'multi_SdlTris', 'subgraphs')\n",
    "df_G_V2_arc_component_dict_gpy.printSchema()"
   ]
  },
  {
   "cell_type": "code",
   "execution_count": 80,
   "id": "ordinary-spanking",
   "metadata": {},
   "outputs": [],
   "source": [
    "df_G_V2_arc_component_dict_gpy_col = df_G_V2_arc_component_dict_gpy.collect()"
   ]
  },
  {
   "cell_type": "code",
   "execution_count": 83,
   "id": "dried-offer",
   "metadata": {},
   "outputs": [
    {
     "data": {
      "text/plain": [
       "Row(component=400, multi_SdlTris=[417, 785, 1137, 814], subgraphs=[{623: 620}, {737: 736}, {858: 810}, {897: 849}, {1025: 1024}, {1084: 1087}, {1127: 1079}, {799: 798}, {804: 805}, {898: 899}, {593: 592}, {597: 596}, {976: 979}, {847: 846}, {939: 890}, {988: 991}, {601: 600}, {758: 807}, {476: 525}, {599: 598}, {855: 852}, {861: 858}, {519: 516}, {654: 657}, {689: 688}, {699: 698}, {792: 795}, {1137: 1136}, {1130: 1133}, {429: 426}, {470: 471}, {839: 838}, {479: 527}, {1144: 1096}, {646: 649}, {545: 544}, {620: 621}, {846: 798}, {419: 416}, {553: 552}, {560: 561}, {836: 839}, {415: 414}, {1128: 1131}, {1045: 1042}, {666: 667}, {1091: 1088}, {1132: 1135}, {903: 900}, {979: 978}, {993: 992}, {564: 565}, {619: 616}, {891: 842}, {609: 606}, {456: 459}, {834: 837}, {520: 569}, {736: 739}, {791: 742}, {1041: 1040}, {1075: 1026}, {1076: 1079}, {514: 563}, {549: 597}, {565: 612}, {649: 697}, {428: 429}, {465: 462}, {794: 797}, {957: 954}, {994: 947}, {885: 836}, {459: 458}, {509: 508}, {907: 904}, {1094: 1095}, {518: 567}, {750: 799}, {951: 948}, {427: 424}, {763: 760}, {1147: 1144}, {893: 844}, {1078: 1081}, {1103: 1100}, {697: 696}, {1083: 1082}, {1099: 1096}, {651: 699}, {741: 740}, {789: 740}, {1038: 1041}, {653: 701}, {710: 711}, {595: 594}, {622: 671}, {478: 479}, {655: 703}, {997: 949}, {1149: 1146}, {611: 659}, {612: 613}, {668: 669}, {421: 418}, {575: 623}, {888: 891}, {1024: 976}, {567: 564}, {546: 549}, {600: 648}, {805: 802}, {690: 693}, {1086: 1089}, {466: 515}, {506: 554}, {566: 615}, {909: 906}, {1141: 1138}, {942: 895}, {985: 984}, {652: 655}, {815: 812}, {901: 898}, {1090: 1042}, {616: 617}, {562: 610}, {716: 764}, {1054: 1055}, {670: 718}, {745: 793}, {949: 946}, {954: 907}, {463: 462}, {471: 468}, {496: 499}, {833: 832}, {1088: 1089}, {458: 461}, {883: 834}, {613: 660}, {857: 854}, {756: 805}, {406: 409}, {412: 415}, {784: 787}, {787: 786}, {842: 845}, {1030: 1033}, {1034: 1037}, {416: 465}, {556: 559}, {711: 708}, {1055: 1007}, {665: 662}, {671: 668}, {618: 666}, {694: 697}, {696: 699}, {747: 794}, {882: 885}, {906: 859}, {955: 952}, {572: 573}, {852: 804}, {887: 886}, {500: 503}, {431: 428}, {692: 695}, {881: 833}, {980: 933}, {402: 405}, {647: 646}, {1074: 1077}, {425: 422}, {904: 905}, {931: 930}, {845: 796}, {1136: 1088}, {1151: 1148}, {511: 558}, {929: 928}, {1052: 1053}, {563: 560}, {615: 612}, {849: 846}, {423: 420}, {695: 694}, {746: 749}, {498: 546}, {850: 851}, {1121: 1073}, {739: 787}, {1142: 1094}, {568: 616}, {698: 701}, {742: 745}, {838: 841}, {900: 901}, {453: 500}, {856: 808}, {1000: 953}, {956: 909}, {706: 707}, {448: 496}, {467: 464}, {928: 880}, {1081: 1080}, {569: 566}, {793: 792}, {938: 941}, {977: 929}, {759: 756}, {812: 813}, {952: 904}, {1039: 990}, {418: 467}, {946: 898}, {895: 894}, {1126: 1129}, {411: 410}, {477: 474}, {740: 743}, {414: 463}, {608: 656}, {712: 760}, {859: 856}, {899: 850}, {592: 641}, {751: 750}, {801: 798}, {943: 942}, {953: 950}, {978: 931}, {1043: 995}, {515: 512}, {426: 427}, {574: 575}, {718: 719}, {749: 797}, {1120: 1123}, {413: 412}, {508: 556}, {1033: 985}, {1129: 1081}, {999: 996}, {1092: 1093}, {573: 620}, {405: 452}, {557: 605}, {700: 748}, {551: 550}, {475: 472}, {947: 944}, {1044: 1045}, {755: 752}, {934: 937}, {1097: 1094}, {841: 792}, {991: 943}, {451: 450}, {808: 809}, {513: 512}, {1005: 957}, {1133: 1084}, {642: 645}, {796: 799}, {497: 545}, {596: 644}, {762: 811}, {1051: 1048}, {501: 548}, {606: 654}, {743: 742}, {811: 808}, {844: 847}, {908: 861}, {1135: 1086}, {460: 463}, {1085: 1036}, {738: 741}, {860: 812}, {417: 414}, {548: 551}, {602: 650}, {473: 470}, {603: 602}, {660: 661}, {748: 751}, {935: 887}, {704: 705}, {1122: 1125}, {1145: 1142}, {512: 560}, {797: 796}, {715: 712}, {992: 944}, {1047: 1044}, {570: 571}, {1026: 1029}, {944: 945}, {983: 934}, {1146: 1147}, {1087: 1038}, {709: 706}, {959: 956}, {430: 478}, {754: 755}, {989: 941}, {641: 640}, {644: 647}, {843: 795}, {854: 806}, {461: 509}, {502: 505}, {523: 570}, {937: 936}, {462: 510}, {547: 595}, {1124: 1127}, {552: 601}, {1123: 1074}, {505: 553}, {800: 801}, {884: 887}, {948: 900}, {986: 989}, {449: 448}, {450: 499}, {717: 714}, {757: 754}, {930: 882}, {555: 603}, {987: 938}, {648: 651}, {958: 911}, {664: 713}, {691: 738}, {403: 402}, {982: 985}, {814: 815}, {848: 800}, {1007: 1004}, {1098: 1050}, {404: 407}, {527: 524}, {1102: 1054}, {510: 513}, {645: 693}, {795: 794}, {550: 599}, {1079: 1078}, {941: 940}, {714: 763}, {911: 908}, {933: 932}, {1042: 1043}, {1131: 1130}, {1140: 1092}, {469: 466}, {621: 668}, {786: 789}, {1027: 979}, {457: 456}, {640: 689}, {662: 663}, {835: 786}, {753: 750}, {424: 425}, {657: 704}, {454: 457}, {832: 784}, {765: 762}, {803: 800}, {892: 895}, {905: 902}, {1004: 1005}, {410: 413}, {996: 997}, {407: 454}, {521: 518}, {788: 791}, {617: 665}, {701: 700}, {401: 400}, {422: 470}, {517: 514}, {1138: 1091}, {516: 564}, {1139: 1136}, {1143: 1140}, {472: 473}, {853: 850}, {744: 747}, {950: 951}, {1031: 982}, {667: 715}, {688: 737}, {806: 807}, {1148: 1100}, {984: 987}, {1046: 1047}, {1093: 1090}, {409: 457}, {663: 660}, {1077: 1076}, {707: 754}, {604: 652}, {995: 992}, {1125: 1077}, {896: 897}, {474: 522}, {760: 761}, {1089: 1041}, {1100: 1101}, {998: 999}, {1082: 1085}, {559: 607}, {1028: 1031}, {452: 455}, {840: 843}, {1029: 981}, {1032: 1035}, {507: 506}, {544: 593}, {650: 653}, {504: 507}, {554: 557}, {598: 647}, {764: 765}, {886: 889}, {936: 939}, {1002: 1003}, {1048: 1049}, {1050: 1051}, {455: 502}, {607: 606}, {1035: 1034}, {862: 863}, {1073: 1072}, {659: 656}, {503: 551}, {594: 642}, {610: 611}, {614: 662}, {761: 758}, {880: 883}, {1072: 1025}, {766: 767}, {1037: 988}, {1096: 1097}, {669: 717}, {713: 710}, {810: 811}, {813: 810}, {890: 893}, {1036: 1039}, {719: 766}, {981: 980}, {400: 449}, {1001: 998}, {524: 572}, {661: 709}, {693: 692}, {1006: 959}, {1134: 1137}, {658: 706}, {703: 702}, {945: 896}, {1049: 1046}, {889: 840}, {408: 411}, {1003: 955}, {464: 513}, {526: 574}, {558: 561}, {752: 801}, {767: 815}, {790: 793}, {809: 806}, {863: 814}, {990: 993}, {1053: 1004}, {1150: 1103}, {940: 892}, {1040: 993}, {702: 751}, {708: 757}, {807: 804}, {837: 788}, {525: 522}, {561: 609}, {910: 862}, {1080: 1083}, {499: 498}, {522: 523}, {902: 903}, {1095: 1092}, {571: 619}, {605: 604}, {802: 755}, {1101: 1098}, {894: 847}, {420: 468}, {705: 753}, {785: 736}, {851: 848}, {468: 469}, {643: 690}, {656: 657}, {932: 884}])"
      ]
     },
     "execution_count": 83,
     "metadata": {},
     "output_type": "execute_result"
    }
   ],
   "source": [
    "df_G_V2_arc_component_dict_gpy_col[0]"
   ]
  },
  {
   "cell_type": "markdown",
   "id": "assumed-delight",
   "metadata": {},
   "source": [
    "##### get the separatrix V2-paths"
   ]
  },
  {
   "cell_type": "code",
   "execution_count": 84,
   "id": "lovely-label",
   "metadata": {},
   "outputs": [],
   "source": [
    "def bfs_df(multi_SdlTris, subgraphs):\n",
    "    # Perform a breadth-first search on a single graph\n",
    "    \n",
    "    # subgraphs is a list of dictionaries, we need to convert it to a single dictionary\n",
    "    subgraphs_dict = {}\n",
    "    for d in subgraphs:\n",
    "        subgraphs_dict = {**subgraphs_dict, **d}\n",
    "        \n",
    "    if multi_SdlTris == None:\n",
    "        return\n",
    "    \n",
    "    V2_paths = []\n",
    "    for i in range(len(multi_SdlTris)):\n",
    "        queue = multi_SdlTris.pop(0)\n",
    "        V2_path_temp = []\n",
    "        while queue:\n",
    "            node = queue\n",
    "            V2_path_temp.append(node)\n",
    "            neighbors = subgraphs_dict.get(node, [])\n",
    "            if neighbors != []:\n",
    "                queue = neighbors\n",
    "            else:\n",
    "                queue = None\n",
    "                \n",
    "#         if component == 0:\n",
    "#             V2_path_temp.append(component) # append the critical triangle of this component\n",
    "        V2_paths.append(V2_path_temp)\n",
    "        \n",
    "    return V2_paths\n",
    "\n",
    "bfs_df_udf = udf(bfs_df, ArrayType(ArrayType(IntegerType())))"
   ]
  },
  {
   "cell_type": "code",
   "execution_count": 85,
   "id": "controversial-swiss",
   "metadata": {},
   "outputs": [
    {
     "name": "stdout",
     "output_type": "stream",
     "text": [
      "root\n",
      " |-- component: long (nullable = true)\n",
      " |-- multi_SdlTris: array (nullable = true)\n",
      " |    |-- element: integer (containsNull = true)\n",
      " |-- subgraphs: array (nullable = true)\n",
      " |    |-- element: map (containsNull = true)\n",
      " |    |    |-- key: integer\n",
      " |    |    |-- value: integer (valueContainsNull = true)\n",
      " |-- V2_paths: array (nullable = true)\n",
      " |    |-- element: array (containsNull = true)\n",
      " |    |    |-- element: integer (containsNull = true)\n",
      "\n",
      "Time cost to extract V1-paths of Graph_VE: 13.276605367660522\n",
      "The number of V1-paths in Graph_VE: 2\n"
     ]
    }
   ],
   "source": [
    "# Use mapPartitions to apply the bfs function to each partition of the RDD\n",
    "# Each partition corresponds to a single graph that is processed by a single executor\n",
    "t_V2_0 = time.time()\n",
    "\n",
    "df_V2_result_VE = df_G_V2_arc_component_dict_gpy.withColumn(\"V2_paths\", bfs_df_udf(df_G_V2_arc_component_dict_gpy.multi_SdlTris, df_G_V2_arc_component_dict_gpy.subgraphs))\n",
    "df_V2_result_VE.printSchema()\n",
    "num_df_V2_result_VE = df_V2_result_VE.count()\n",
    "\n",
    "t_V2_1 = time.time()\n",
    "print(\"Time cost to extract V1-paths of Graph_VE:\", t_V2_1 - t_V2_0)\n",
    "print(\"The number of V1-paths in Graph_VE:\", num_df_V2_result_VE)"
   ]
  },
  {
   "cell_type": "code",
   "execution_count": 86,
   "id": "marked-extreme",
   "metadata": {},
   "outputs": [],
   "source": [
    "df_V2_result_VE_col = df_V2_result_VE.collect()"
   ]
  },
  {
   "cell_type": "markdown",
   "id": "polar-favor",
   "metadata": {},
   "source": [
    "##### collect the critical vertices, edges, and triangles as a global array"
   ]
  },
  {
   "cell_type": "code",
   "execution_count": 89,
   "id": "exotic-candy",
   "metadata": {},
   "outputs": [],
   "source": [
    "# critical vertices array\n",
    "df_crit_V_col = df_crit_V.collect()\n",
    "\n",
    "# critical edges array\n",
    "df_crit_E_col = df_crit_E.collect()\n",
    "\n",
    "# critical triangles array\n",
    "df_crit_T_col = df_crit_T.collect()"
   ]
  },
  {
   "cell_type": "code",
   "execution_count": 90,
   "id": "german-handbook",
   "metadata": {},
   "outputs": [
    {
     "data": {
      "text/plain": [
       "[Row(Ver=277, Min_ver=277),\n",
       " Row(Ver=1, Min_ver=1),\n",
       " Row(Ver=2, Min_ver=2),\n",
       " Row(Ver=0, Min_ver=0),\n",
       " Row(Ver=3, Min_ver=3)]"
      ]
     },
     "execution_count": 90,
     "metadata": {},
     "output_type": "execute_result"
    }
   ],
   "source": [
    "df_crit_V_col"
   ]
  },
  {
   "cell_type": "code",
   "execution_count": 91,
   "id": "bibliographic-drink",
   "metadata": {},
   "outputs": [
    {
     "data": {
      "text/plain": [
       "[Row(Ver=322, Saddle_edge=[322, 274]),\n",
       " Row(Ver=299, Saddle_edge=[299, 272]),\n",
       " Row(Ver=321, Saddle_edge=[321, 273]),\n",
       " Row(Ver=345, Saddle_edge=[345, 275]),\n",
       " Row(Ver=278, Saddle_edge=[278, 277])]"
      ]
     },
     "execution_count": 91,
     "metadata": {},
     "output_type": "execute_result"
    }
   ],
   "source": [
    "df_crit_E_col"
   ]
  },
  {
   "cell_type": "code",
   "execution_count": 92,
   "id": "declared-garden",
   "metadata": {},
   "outputs": [
    {
     "data": {
      "text/plain": [
       "[Row(Ver=624, Max_tri=[624, 620, 607])]"
      ]
     },
     "execution_count": 92,
     "metadata": {},
     "output_type": "execute_result"
    }
   ],
   "source": [
    "df_crit_T_col"
   ]
  },
  {
   "cell_type": "markdown",
   "id": "noble-science",
   "metadata": {},
   "source": [
    "##### collect the V2-paths as a global array"
   ]
  },
  {
   "cell_type": "code",
   "execution_count": 93,
   "id": "opponent-duplicate",
   "metadata": {},
   "outputs": [
    {
     "name": "stdout",
     "output_type": "stream",
     "text": [
      "root\n",
      " |-- V2_path: array (nullable = true)\n",
      " |    |-- element: integer (containsNull = true)\n",
      "\n",
      "Time cost to collect V1-paths of Graph_VE: 11.687187671661377\n"
     ]
    }
   ],
   "source": [
    "df_V2_result_VE_init = df_V2_result_VE.select(explode(df_V2_result_VE.V2_paths))\n",
    "df_V2_result_VE_init = df_V2_result_VE_init.withColumnRenamed(\"col\",\"V2_path\")\n",
    "df_V2_result_VE_init.printSchema()\n",
    "\n",
    "t_0 = time.time()\n",
    "\n",
    "df_V2_result_VE_init_col = df_V2_result_VE_init.collect()\n",
    "\n",
    "t_1 = time.time()\n",
    "print(\"Time cost to collect V1-paths of Graph_VE:\", t_1 - t_0)"
   ]
  },
  {
   "cell_type": "code",
   "execution_count": 140,
   "id": "satisfactory-spray",
   "metadata": {},
   "outputs": [
    {
     "data": {
      "text/plain": [
       "[Row(V2_path=[1137, 1136, 1088, 1089, 1041, 1040, 993, 992, 944, 945, 896, 897, 849, 846, 798]),\n",
       " Row(V2_path=[417, 414, 463, 462, 510, 513, 512, 560, 561, 609, 606, 654, 657, 704, 705, 753, 750, 799, 798]),\n",
       " Row(V2_path=[814, 815, 812, 813, 810, 811, 808, 809, 806, 807, 804, 805, 802, 755, 752, 801, 798]),\n",
       " Row(V2_path=[785, 736, 739, 787, 786, 789, 740, 743, 742, 745, 793, 792, 795, 794, 797, 796, 799, 798]),\n",
       " Row(V2_path=[15, 12, 13, 10, -1]),\n",
       " Row(V2_path=[369, 368, 321, 318, 271, 270, 222, 225, 224, 176, 177, 128, 129, 81, 80, 32, 33, -1]),\n",
       " Row(V2_path=[782, 783, 780, 781, 778, 779, 776, 729, 726, 774, 775, 772, 773, 770, 771, 768, 769, -1]),\n",
       " Row(V2_path=[14, 17, 16, 19, 18, 21, -1])]"
      ]
     },
     "execution_count": 140,
     "metadata": {},
     "output_type": "execute_result"
    }
   ],
   "source": [
    "df_V2_result_VE_init_col"
   ]
  },
  {
   "cell_type": "markdown",
   "id": "hourly-expense",
   "metadata": {},
   "source": [
    "### sort df_ver_order according to the self_order value, which is the filtration value"
   ]
  },
  {
   "cell_type": "code",
   "execution_count": 95,
   "id": "fabulous-theology",
   "metadata": {},
   "outputs": [],
   "source": [
    "df_ver_order = df_ver_order.sort(col('self_order'), ascending=True)\n",
    "\n",
    "# collect df_ver_order as a global array \n",
    "df_ver_order_col = df_ver_order.collect()"
   ]
  },
  {
   "cell_type": "code",
   "execution_count": 96,
   "id": "developed-marshall",
   "metadata": {},
   "outputs": [
    {
     "data": {
      "text/plain": [
       "[Row(x=3.141590118408203, y=3.141590118408203, ele=-2.0, self_index=208, self_order=0),\n",
       " Row(x=9.424779891967773, y=3.141590118408203, ele=-2.0, self_index=224, self_order=1),\n",
       " Row(x=3.141590118408203, y=9.424779891967773, ele=-2.0, self_index=608, self_order=2),\n",
       " Row(x=9.424779891967773, y=9.424779891967773, ele=-2.0, self_index=624, self_order=3),\n",
       " Row(x=3.141590118408203, y=2.748889923095703, ele=-1.9238799810409546, self_index=183, self_order=4)]"
      ]
     },
     "execution_count": 96,
     "metadata": {},
     "output_type": "execute_result"
    }
   ],
   "source": [
    "df_ver_order_col[0:5]"
   ]
  },
  {
   "cell_type": "code",
   "execution_count": 112,
   "id": "thermal-chaos",
   "metadata": {},
   "outputs": [
    {
     "data": {
      "text/plain": [
       "3.141590118408203"
      ]
     },
     "execution_count": 112,
     "metadata": {},
     "output_type": "execute_result"
    }
   ],
   "source": [
    "df_ver_order_col[0]['x']"
   ]
  },
  {
   "cell_type": "markdown",
   "id": "reliable-influence",
   "metadata": {},
   "source": [
    "### sort df_graph_V2_node according to the id, df_graph_V2_node does not contain node -1"
   ]
  },
  {
   "cell_type": "code",
   "execution_count": 105,
   "id": "spiritual-convertible",
   "metadata": {},
   "outputs": [],
   "source": [
    "df_graph_V2_node = df_graph_V2_node.sort(col('tri_order'), ascending=True)\n",
    "\n",
    "# collect df_graph_V2_node_final as a global array \n",
    "df_graph_V2_node_col = df_graph_V2_node.collect()"
   ]
  },
  {
   "cell_type": "code",
   "execution_count": 107,
   "id": "bacterial-stocks",
   "metadata": {},
   "outputs": [
    {
     "data": {
      "text/plain": [
       "[Row(tri_order=0, tri=[621, 609, 600]),\n",
       " Row(tri_order=1, tri=[621, 612, 600]),\n",
       " Row(tri_order=2, tri=[600, 588, 570]),\n",
       " Row(tri_order=3, tri=[609, 600, 588]),\n",
       " Row(tri_order=4, tri=[588, 549, 531])]"
      ]
     },
     "execution_count": 107,
     "metadata": {},
     "output_type": "execute_result"
    }
   ],
   "source": [
    "df_graph_V2_node_col[0:5]"
   ]
  },
  {
   "cell_type": "markdown",
   "id": "greatest-allah",
   "metadata": {},
   "source": [
    "##### get the triangle id of critical triangle, whose triangle id is not equal to the component id"
   ]
  },
  {
   "cell_type": "code",
   "execution_count": null,
   "id": "intelligent-france",
   "metadata": {},
   "outputs": [],
   "source": [
    "df_crit_T_con = df_crit_T.join(result_con_ET, df_crit_T.Max_tri==result_con_ET.tri, \"left\")\n",
    "# df_crit_T_con = df_crit_T_con.select(\"component\", \"Max_tri\")\n",
    "df_crit_T_con.printSchema()\n",
    "\n",
    "# collect df_crit_T_con as a global array \n",
    "df_crit_T_con_col = df_crit_T_con.collect()"
   ]
  },
  {
   "cell_type": "code",
   "execution_count": 110,
   "id": "double-convertible",
   "metadata": {},
   "outputs": [
    {
     "data": {
      "text/plain": [
       "[Row(Ver=624, Max_tri=[624, 620, 607], id=798, tri=[624, 620, 607], component=400)]"
      ]
     },
     "execution_count": 110,
     "metadata": {},
     "output_type": "execute_result"
    }
   ],
   "source": [
    "df_crit_T_con_col"
   ]
  },
  {
   "cell_type": "markdown",
   "id": "measured-october",
   "metadata": {},
   "source": [
    "### save ascending 1-manifolds, the V2-paths"
   ]
  },
  {
   "cell_type": "code",
   "execution_count": 118,
   "id": "continent-studio",
   "metadata": {},
   "outputs": [],
   "source": [
    "# given the triangle id, obtain the xyz of the baricenter of this triangle\n",
    "def baricenterXYZ(tri_id):\n",
    "    tri_end_pts = df_graph_V2_node_col[tri_id]['tri']\n",
    "    v_0 = tri_end_pts[0]\n",
    "    v_1 = tri_end_pts[1]\n",
    "    v_2 = tri_end_pts[2]\n",
    "    x = (df_ver_order_col[v_0]['x'] + df_ver_order_col[v_1]['x'] + df_ver_order_col[v_2]['x'])/3.0\n",
    "    y = (df_ver_order_col[v_0]['y'] + df_ver_order_col[v_1]['y'] + df_ver_order_col[v_2]['y'])/3.0\n",
    "    z = (df_ver_order_col[v_0]['ele'] + df_ver_order_col[v_1]['ele'] + df_ver_order_col[v_2]['ele'])/3.0\n",
    "    return x, y, z"
   ]
  },
  {
   "cell_type": "code",
   "execution_count": 127,
   "id": "reported-newport",
   "metadata": {},
   "outputs": [],
   "source": [
    "# given teh triangle ids of two adjacent triangle, obtain the xyz of the mid-point of the common edge\n",
    "def mid_pt_XYZ(tri_id_0, tri_id_1):\n",
    "    tri_end_pts_0 = df_graph_V2_node_col[tri_id_0]['tri']\n",
    "    tri_end_pts_1 = df_graph_V2_node_col[tri_id_1]['tri']\n",
    "    # get the common edge of these two triangles\n",
    "    intersection = set(tri_end_pts_0) & set(tri_end_pts_1)\n",
    "    edge = list(intersection)\n",
    "#     if len(edge) == 0:\n",
    "#         print(\"tri_id_0:\", tri_id_0)\n",
    "#         print(\"tri_end_pts_0:\", tri_end_pts_0)\n",
    "#         print(\"tri_id_1:\", tri_id_1)\n",
    "#         print(\"tri_end_pts_1:\", tri_end_pts_1)\n",
    "    v_0 = edge[0]\n",
    "    v_1 = edge[1]\n",
    "    x = (df_ver_order_col[v_0]['x'] + df_ver_order_col[v_1]['x'])/2.0\n",
    "    y = (df_ver_order_col[v_0]['y'] + df_ver_order_col[v_1]['y'])/2.0\n",
    "    z = (df_ver_order_col[v_0]['ele'] + df_ver_order_col[v_1]['ele'])/2.0\n",
    "    return x, y, z"
   ]
  },
  {
   "cell_type": "code",
   "execution_count": 153,
   "id": "increasing-pride",
   "metadata": {},
   "outputs": [],
   "source": [
    "def write_A1_V2paths(output_vtk):\n",
    "    vertices_num = 0\n",
    "    edges_num = 0\n",
    "    for i in range(0, len(df_V2_result_VE_init_col)):\n",
    "        if df_V2_result_VE_init_col[i]['V2_path'][-1] != -1: # this is a valid V2-path\n",
    "            actual_pts_num = len(df_V2_result_VE_init_col[i]['V2_path'])*2 - 1\n",
    "            vertices_num = vertices_num + actual_pts_num\n",
    "            edges_num = edges_num + actual_pts_num - 1\n",
    "        \n",
    "    with open(output_vtk, 'w', newline='') as writer:\n",
    "        writer.write('# vtk DataFile Version 2.0\\n')\n",
    "        writer.write('\\n')\n",
    "        writer.write('ASCII\\n')\n",
    "        writer.write('DATASET UNSTRUCTURED_GRID\\n')\n",
    "        writer.write('\\n')\n",
    "        writer.write(f'POINTS {vertices_num} float\\n')\n",
    "        \n",
    "        for i in range(0, len(df_V2_result_VE_init_col)):\n",
    "            if df_V2_result_VE_init_col[i]['V2_path'][-1] != -1: # this is a valid V2-path\n",
    "                for j in range(0, len(df_V2_result_VE_init_col[i]['V2_path']) - 1):\n",
    "                    # get baricenter of current triangle\n",
    "                    tri_index = df_V2_result_VE_init_col[i]['V2_path'][j]\n",
    "                    tri_bari_x, tri_bari_y, tri_bari_z = baricenterXYZ(tri_index)\n",
    "                    writer.write(f\"{tri_bari_x} {tri_bari_y} {tri_bari_z}\\n\")\n",
    "                    \n",
    "                    # get mid-point of common edge of current triangle and next triangle\n",
    "                    tri_index_next = df_V2_result_VE_init_col[i]['V2_path'][j+1]\n",
    "                    mid_x, mid_y, mid_z = mid_pt_XYZ(tri_index, tri_index_next)\n",
    "                    writer.write(f\"{mid_x} {mid_y} {mid_z}\\n\")\n",
    "                # get the baricenter of the last triangle\n",
    "                tri_index = df_V2_result_VE_init_col[i]['V2_path'][-1]\n",
    "                tri_bari_x, tri_bari_y, tri_bari_z = baricenterXYZ(tri_index)\n",
    "                writer.write(f\"{tri_bari_x} {tri_bari_y} {tri_bari_z}\\n\")\n",
    "                \n",
    "        writer.write('\\n')\n",
    "        writer.write('\\n')\n",
    "        writer.write(f\"CELLS {edges_num} {edges_num*3}\\n\")\n",
    "        \n",
    "        e_0 = -2\n",
    "        # e_1 = 1\n",
    "        for i in range(0, len(df_V2_result_VE_init_col)):\n",
    "            if df_V2_result_VE_init_col[i]['V2_path'][-1] != -1: # this is a valid V2-path\n",
    "                e_0 += 1\n",
    "    #             if len(df_V1_result_VE_init_col[i]['col']) == 1:\n",
    "    #                 e_0 += 1\n",
    "                for j in range(0, len(df_V2_result_VE_init_col[i]['V2_path']) -1):\n",
    "                    e_0 += 1\n",
    "                    e_1 = e_0 + 1\n",
    "                    writer.write(f\"2 {e_0} {e_1}\\n\") # the edge baricenter-mid-point\n",
    "                    e_0 += 1\n",
    "                    e_1 = e_0 + 1\n",
    "                    writer.write(f\"2 {e_0} {e_1}\\n\") # the edge mid-point to next baricenter\n",
    "                    \n",
    "        writer.write(f\"CELL_TYPES {edges_num}\\n\")\n",
    "        for i in range(edges_num):\n",
    "            writer.write('3 ')\n",
    "            \n",
    "        writer.write('\\n\\n')\n",
    "        writer.close()\n",
    "        \n",
    "    print(\"Writing ascending 1 cell complete.\")"
   ]
  },
  {
   "cell_type": "code",
   "execution_count": 154,
   "id": "another-publisher",
   "metadata": {},
   "outputs": [],
   "source": [
    "output_vtk_A1 = '/home/qiany/yuehui/pyspark/data/' + tin_filename + '_A1_' + date_name + '.vtk'"
   ]
  },
  {
   "cell_type": "code",
   "execution_count": 155,
   "id": "unexpected-works",
   "metadata": {},
   "outputs": [
    {
     "name": "stdout",
     "output_type": "stream",
     "text": [
      "Writing ascending 1 cell complete.\n"
     ]
    }
   ],
   "source": [
    "write_A1_V2paths(output_vtk_A1)"
   ]
  }
 ],
 "metadata": {
  "kernelspec": {
   "display_name": "Python 3",
   "language": "python",
   "name": "python3"
  },
  "language_info": {
   "codemirror_mode": {
    "name": "ipython",
    "version": 3
   },
   "file_extension": ".py",
   "mimetype": "text/x-python",
   "name": "python",
   "nbconvert_exporter": "python",
   "pygments_lexer": "ipython3",
   "version": "3.7.7"
  }
 },
 "nbformat": 4,
 "nbformat_minor": 5
}
